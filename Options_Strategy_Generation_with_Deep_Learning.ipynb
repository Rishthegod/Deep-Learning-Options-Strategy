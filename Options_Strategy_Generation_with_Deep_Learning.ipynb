{
  "nbformat": 4,
  "nbformat_minor": 0,
  "metadata": {
    "colab": {
      "provenance": [],
      "authorship_tag": "ABX9TyMYcH/ghvB2DSNrbtLD+QtT",
      "include_colab_link": true
    },
    "kernelspec": {
      "name": "python3",
      "display_name": "Python 3"
    },
    "language_info": {
      "name": "python"
    }
  },
  "cells": [
    {
      "cell_type": "markdown",
      "metadata": {
        "id": "view-in-github",
        "colab_type": "text"
      },
      "source": [
        "<a href=\"https://colab.research.google.com/github/Rishthegod/Deep-Learning-Options-Strategy/blob/main/Options_Strategy_Generation_with_Deep_Learning.ipynb\" target=\"_parent\"><img src=\"https://colab.research.google.com/assets/colab-badge.svg\" alt=\"Open In Colab\"/></a>"
      ]
    },
    {
      "cell_type": "code",
      "execution_count": 63,
      "metadata": {
        "id": "tumUEDGTEC8Q"
      },
      "outputs": [],
      "source": [
        "import yfinance as yf\n",
        "import numpy as np\n",
        "from scipy.stats import norm\n",
        "import pandas as pd\n",
        "import tensorflow as tf\n",
        "from keras.models import Sequential\n",
        "from keras.layers import Dense, Dropout\n",
        "from sklearn.model_selection import train_test_split\n",
        "from sklearn.preprocessing import StandardScaler\n",
        "import seaborn as sns\n",
        "import matplotlib.pyplot as plt\n",
        "from datetime import *\n",
        "import holidays\n",
        "import pytz\n",
        "import matplotlib.ticker as ticker\n",
        "\n",
        "\n",
        "\n"
      ]
    },
    {
      "cell_type": "markdown",
      "source": [
        "#Downloading Historical Price Data:\n",
        "Yahoo finance can give us historic asset prices. So, I will use this to access Google's historical price as an example throughout this first section."
      ],
      "metadata": {
        "id": "uNgK9HQ8E62W"
      }
    },
    {
      "cell_type": "code",
      "source": [
        "googl_data =  yf.download(\"GOOGL\", start=\"2023-01-01\", end=datetime.now().date()) #get googl data from Jan 1 2023, to the present day.\n",
        "googl_closing_prices = googl_data[\"Close\"] #get close price\n",
        "googl_closing_prices"
      ],
      "metadata": {
        "colab": {
          "base_uri": "https://localhost:8080/"
        },
        "id": "hDzipi7OFJSE",
        "outputId": "eed38a95-7be6-4e55-bd1c-8bda93039651"
      },
      "execution_count": 64,
      "outputs": [
        {
          "output_type": "stream",
          "name": "stderr",
          "text": [
            "\r[*********************100%%**********************]  1 of 1 completed\n"
          ]
        },
        {
          "output_type": "execute_result",
          "data": {
            "text/plain": [
              "Date\n",
              "2023-01-03     89.120003\n",
              "2023-01-04     88.080002\n",
              "2023-01-05     86.199997\n",
              "2023-01-06     87.339996\n",
              "2023-01-09     88.019997\n",
              "                 ...    \n",
              "2024-04-24    159.130005\n",
              "2024-04-25    156.000000\n",
              "2024-04-26    171.949997\n",
              "2024-04-29    166.149994\n",
              "2024-04-30    162.779999\n",
              "Name: Close, Length: 333, dtype: float64"
            ]
          },
          "metadata": {},
          "execution_count": 64
        }
      ]
    },
    {
      "cell_type": "markdown",
      "source": [
        "#Accessing Real-Time Options Data:\n",
        "\n",
        "Using the options_chain library in yahoo finance, we can extract relevant options data (bid/ask, I.V.) and return it as a pandas dataframe.\n"
      ],
      "metadata": {
        "id": "5LecNSPNFqAg"
      }
    },
    {
      "cell_type": "code",
      "source": [
        "def get_option_data(stock_symbol, expiration_date, option_type, strike):\n",
        "  \"\"\" Documentation:\n",
        "   Retrieves real-time options data for a specific contract.\n",
        "\n",
        "   Args:\n",
        "           stock_symbol (str): Ticker symbol of the underlying asset.\n",
        "           expiration_date (str): Expiry date of the option contract (YYYY-MM-DD format).\n",
        "           option_type (str): \"call\" or \"put\" for the desired option type.\n",
        "           strike (float): Strike price of the option contract.\n",
        "  Returns:\n",
        "           pandas.DataFrame: DataFrame containing retrieved options data.\n",
        "  \"\"\"\n",
        "  stock = yf.Ticker(stock_symbol)\n",
        "  option_chain = stock.option_chain(expiration_date)\n",
        "  options = getattr(option_chain, \"calls\" if option_type.startswith(\"call\") else \"puts\") #extract either calls or puts\n",
        "  option_data = options[options[\"strike\"] == strike] #comprehension to create dataframe\n",
        "  return option_data\n",
        "\n",
        "\n",
        "def last_working_day():\n",
        "\n",
        "    \"\"\"\n",
        "    Documentation:\n",
        "\n",
        "    Returns the last completed trading day\n",
        "\n",
        "    Args:\n",
        "              None\n",
        "\n",
        "    Returns:\n",
        "              date(str): the date of the last market close in 'YYYY-MM-DD'\n",
        "\n",
        "\n",
        "    \"\"\"\n",
        "\n",
        "    # Get the current date\n",
        "    eastern = pytz.timezone('America/New_York')\n",
        "    current_date = datetime.now(eastern) #markets operate in New York, so it is easiest to localize there\n",
        "\n",
        "    #if its a Monday before market close, return the last Friday\n",
        "    if current_date.weekday() == 0 and current_date.hour < 16:  # Monday and before 4 PM\n",
        "        last_working_day = current_date - timedelta(days=3)  # Previous Friday\n",
        "        return str(last_working_day.date())\n",
        "\n",
        "    # Check if the current date is a weekend (Saturday or Sunday)\n",
        "    if current_date.weekday() >= 5:  # Saturday or Sunday\n",
        "        # Find the last Friday (previous working day)\n",
        "        last_working_day = current_date - timedelta(days=current_date.weekday() - 4)\n",
        "        return str(last_working_day.date())\n",
        "\n",
        "    # Check if the current date is a federal holiday\n",
        "    us_holidays = holidays.UnitedStates()  # Federal holidays for the United States\n",
        "    if current_date in us_holidays:\n",
        "        # Find the last working day before the holiday\n",
        "        last_working_day = current_date - timedelta(days=1)\n",
        "        while last_working_day.weekday() >= 5 or last_working_day in us_holidays:\n",
        "            last_working_day -= timedelta(days=1)\n",
        "        return str(last_working_day.date())\n",
        "\n",
        "    #if its currently a workday before market close return the previous completed market day\n",
        "    if current_date.hour < 16:\n",
        "      last_working_day = current_date - timedelta(days=1)  # Previous day\n",
        "      return(str(last_working_day.date()))\n",
        "    # If it's a workday, after market close, return the current date\n",
        "    return str(current_date.date())"
      ],
      "metadata": {
        "id": "nRK0Ff5zFUn8"
      },
      "execution_count": 65,
      "outputs": []
    },
    {
      "cell_type": "code",
      "source": [
        "#Example: Retrieve the call option data for GOOGL expiring on January 17 2025, at the strike price $175\n",
        "\n",
        "googl_call_data = get_option_data( \"GOOGL\", \"2025-01-17\", \"call\", 175)\n",
        "\n",
        "#Extract specific data points of value: the bid price and Implied volatility\n",
        "\n",
        "googl_call_bid_price = googl_call_data[\"bid\"]\n",
        "\n",
        "googl_call_implied_volatility = googl_call_data[\"impliedVolatility\"]\n",
        "\n",
        "googl_call_data #print out the current options data\n",
        "\n"
      ],
      "metadata": {
        "id": "BmJSuW6yFcBr",
        "colab": {
          "base_uri": "https://localhost:8080/",
          "height": 118
        },
        "outputId": "1d547a15-dada-4478-b4cf-3861720a204a"
      },
      "execution_count": 66,
      "outputs": [
        {
          "output_type": "execute_result",
          "data": {
            "text/plain": [
              "          contractSymbol             lastTradeDate  strike  lastPrice  bid  \\\n",
              "26  GOOGL250117C00175000 2024-04-30 19:58:49+00:00   175.0       13.1  0.0   \n",
              "\n",
              "    ask  change  percentChange  volume  openInterest  impliedVolatility  \\\n",
              "26  0.0     0.0            0.0      74             0           0.015635   \n",
              "\n",
              "    inTheMoney contractSize currency  \n",
              "26       False      REGULAR      USD  "
            ],
            "text/html": [
              "\n",
              "  <div id=\"df-42040ee6-3679-4ba2-882b-c2b43bdf6e89\" class=\"colab-df-container\">\n",
              "    <div>\n",
              "<style scoped>\n",
              "    .dataframe tbody tr th:only-of-type {\n",
              "        vertical-align: middle;\n",
              "    }\n",
              "\n",
              "    .dataframe tbody tr th {\n",
              "        vertical-align: top;\n",
              "    }\n",
              "\n",
              "    .dataframe thead th {\n",
              "        text-align: right;\n",
              "    }\n",
              "</style>\n",
              "<table border=\"1\" class=\"dataframe\">\n",
              "  <thead>\n",
              "    <tr style=\"text-align: right;\">\n",
              "      <th></th>\n",
              "      <th>contractSymbol</th>\n",
              "      <th>lastTradeDate</th>\n",
              "      <th>strike</th>\n",
              "      <th>lastPrice</th>\n",
              "      <th>bid</th>\n",
              "      <th>ask</th>\n",
              "      <th>change</th>\n",
              "      <th>percentChange</th>\n",
              "      <th>volume</th>\n",
              "      <th>openInterest</th>\n",
              "      <th>impliedVolatility</th>\n",
              "      <th>inTheMoney</th>\n",
              "      <th>contractSize</th>\n",
              "      <th>currency</th>\n",
              "    </tr>\n",
              "  </thead>\n",
              "  <tbody>\n",
              "    <tr>\n",
              "      <th>26</th>\n",
              "      <td>GOOGL250117C00175000</td>\n",
              "      <td>2024-04-30 19:58:49+00:00</td>\n",
              "      <td>175.0</td>\n",
              "      <td>13.1</td>\n",
              "      <td>0.0</td>\n",
              "      <td>0.0</td>\n",
              "      <td>0.0</td>\n",
              "      <td>0.0</td>\n",
              "      <td>74</td>\n",
              "      <td>0</td>\n",
              "      <td>0.015635</td>\n",
              "      <td>False</td>\n",
              "      <td>REGULAR</td>\n",
              "      <td>USD</td>\n",
              "    </tr>\n",
              "  </tbody>\n",
              "</table>\n",
              "</div>\n",
              "    <div class=\"colab-df-buttons\">\n",
              "\n",
              "  <div class=\"colab-df-container\">\n",
              "    <button class=\"colab-df-convert\" onclick=\"convertToInteractive('df-42040ee6-3679-4ba2-882b-c2b43bdf6e89')\"\n",
              "            title=\"Convert this dataframe to an interactive table.\"\n",
              "            style=\"display:none;\">\n",
              "\n",
              "  <svg xmlns=\"http://www.w3.org/2000/svg\" height=\"24px\" viewBox=\"0 -960 960 960\">\n",
              "    <path d=\"M120-120v-720h720v720H120Zm60-500h600v-160H180v160Zm220 220h160v-160H400v160Zm0 220h160v-160H400v160ZM180-400h160v-160H180v160Zm440 0h160v-160H620v160ZM180-180h160v-160H180v160Zm440 0h160v-160H620v160Z\"/>\n",
              "  </svg>\n",
              "    </button>\n",
              "\n",
              "  <style>\n",
              "    .colab-df-container {\n",
              "      display:flex;\n",
              "      gap: 12px;\n",
              "    }\n",
              "\n",
              "    .colab-df-convert {\n",
              "      background-color: #E8F0FE;\n",
              "      border: none;\n",
              "      border-radius: 50%;\n",
              "      cursor: pointer;\n",
              "      display: none;\n",
              "      fill: #1967D2;\n",
              "      height: 32px;\n",
              "      padding: 0 0 0 0;\n",
              "      width: 32px;\n",
              "    }\n",
              "\n",
              "    .colab-df-convert:hover {\n",
              "      background-color: #E2EBFA;\n",
              "      box-shadow: 0px 1px 2px rgba(60, 64, 67, 0.3), 0px 1px 3px 1px rgba(60, 64, 67, 0.15);\n",
              "      fill: #174EA6;\n",
              "    }\n",
              "\n",
              "    .colab-df-buttons div {\n",
              "      margin-bottom: 4px;\n",
              "    }\n",
              "\n",
              "    [theme=dark] .colab-df-convert {\n",
              "      background-color: #3B4455;\n",
              "      fill: #D2E3FC;\n",
              "    }\n",
              "\n",
              "    [theme=dark] .colab-df-convert:hover {\n",
              "      background-color: #434B5C;\n",
              "      box-shadow: 0px 1px 3px 1px rgba(0, 0, 0, 0.15);\n",
              "      filter: drop-shadow(0px 1px 2px rgba(0, 0, 0, 0.3));\n",
              "      fill: #FFFFFF;\n",
              "    }\n",
              "  </style>\n",
              "\n",
              "    <script>\n",
              "      const buttonEl =\n",
              "        document.querySelector('#df-42040ee6-3679-4ba2-882b-c2b43bdf6e89 button.colab-df-convert');\n",
              "      buttonEl.style.display =\n",
              "        google.colab.kernel.accessAllowed ? 'block' : 'none';\n",
              "\n",
              "      async function convertToInteractive(key) {\n",
              "        const element = document.querySelector('#df-42040ee6-3679-4ba2-882b-c2b43bdf6e89');\n",
              "        const dataTable =\n",
              "          await google.colab.kernel.invokeFunction('convertToInteractive',\n",
              "                                                    [key], {});\n",
              "        if (!dataTable) return;\n",
              "\n",
              "        const docLinkHtml = 'Like what you see? Visit the ' +\n",
              "          '<a target=\"_blank\" href=https://colab.research.google.com/notebooks/data_table.ipynb>data table notebook</a>'\n",
              "          + ' to learn more about interactive tables.';\n",
              "        element.innerHTML = '';\n",
              "        dataTable['output_type'] = 'display_data';\n",
              "        await google.colab.output.renderOutput(dataTable, element);\n",
              "        const docLink = document.createElement('div');\n",
              "        docLink.innerHTML = docLinkHtml;\n",
              "        element.appendChild(docLink);\n",
              "      }\n",
              "    </script>\n",
              "  </div>\n",
              "\n",
              "    </div>\n",
              "  </div>\n"
            ],
            "application/vnd.google.colaboratory.intrinsic+json": {
              "type": "dataframe",
              "variable_name": "googl_call_data",
              "summary": "{\n  \"name\": \"googl_call_data\",\n  \"rows\": 1,\n  \"fields\": [\n    {\n      \"column\": \"contractSymbol\",\n      \"properties\": {\n        \"dtype\": \"string\",\n        \"num_unique_values\": 1,\n        \"samples\": [\n          \"GOOGL250117C00175000\"\n        ],\n        \"semantic_type\": \"\",\n        \"description\": \"\"\n      }\n    },\n    {\n      \"column\": \"lastTradeDate\",\n      \"properties\": {\n        \"dtype\": \"date\",\n        \"min\": \"2024-04-30 19:58:49+00:00\",\n        \"max\": \"2024-04-30 19:58:49+00:00\",\n        \"num_unique_values\": 1,\n        \"samples\": [\n          \"2024-04-30 19:58:49+00:00\"\n        ],\n        \"semantic_type\": \"\",\n        \"description\": \"\"\n      }\n    },\n    {\n      \"column\": \"strike\",\n      \"properties\": {\n        \"dtype\": \"number\",\n        \"std\": null,\n        \"min\": 175.0,\n        \"max\": 175.0,\n        \"num_unique_values\": 1,\n        \"samples\": [\n          175.0\n        ],\n        \"semantic_type\": \"\",\n        \"description\": \"\"\n      }\n    },\n    {\n      \"column\": \"lastPrice\",\n      \"properties\": {\n        \"dtype\": \"number\",\n        \"std\": null,\n        \"min\": 13.1,\n        \"max\": 13.1,\n        \"num_unique_values\": 1,\n        \"samples\": [\n          13.1\n        ],\n        \"semantic_type\": \"\",\n        \"description\": \"\"\n      }\n    },\n    {\n      \"column\": \"bid\",\n      \"properties\": {\n        \"dtype\": \"number\",\n        \"std\": null,\n        \"min\": 0.0,\n        \"max\": 0.0,\n        \"num_unique_values\": 1,\n        \"samples\": [\n          0.0\n        ],\n        \"semantic_type\": \"\",\n        \"description\": \"\"\n      }\n    },\n    {\n      \"column\": \"ask\",\n      \"properties\": {\n        \"dtype\": \"number\",\n        \"std\": null,\n        \"min\": 0.0,\n        \"max\": 0.0,\n        \"num_unique_values\": 1,\n        \"samples\": [\n          0.0\n        ],\n        \"semantic_type\": \"\",\n        \"description\": \"\"\n      }\n    },\n    {\n      \"column\": \"change\",\n      \"properties\": {\n        \"dtype\": \"number\",\n        \"std\": null,\n        \"min\": 0.0,\n        \"max\": 0.0,\n        \"num_unique_values\": 1,\n        \"samples\": [\n          0.0\n        ],\n        \"semantic_type\": \"\",\n        \"description\": \"\"\n      }\n    },\n    {\n      \"column\": \"percentChange\",\n      \"properties\": {\n        \"dtype\": \"number\",\n        \"std\": null,\n        \"min\": 0.0,\n        \"max\": 0.0,\n        \"num_unique_values\": 1,\n        \"samples\": [\n          0.0\n        ],\n        \"semantic_type\": \"\",\n        \"description\": \"\"\n      }\n    },\n    {\n      \"column\": \"volume\",\n      \"properties\": {\n        \"dtype\": \"number\",\n        \"std\": null,\n        \"min\": 74,\n        \"max\": 74,\n        \"num_unique_values\": 1,\n        \"samples\": [\n          74\n        ],\n        \"semantic_type\": \"\",\n        \"description\": \"\"\n      }\n    },\n    {\n      \"column\": \"openInterest\",\n      \"properties\": {\n        \"dtype\": \"number\",\n        \"std\": null,\n        \"min\": 0,\n        \"max\": 0,\n        \"num_unique_values\": 1,\n        \"samples\": [\n          0\n        ],\n        \"semantic_type\": \"\",\n        \"description\": \"\"\n      }\n    },\n    {\n      \"column\": \"impliedVolatility\",\n      \"properties\": {\n        \"dtype\": \"number\",\n        \"std\": null,\n        \"min\": 0.015634843750000002,\n        \"max\": 0.015634843750000002,\n        \"num_unique_values\": 1,\n        \"samples\": [\n          0.015634843750000002\n        ],\n        \"semantic_type\": \"\",\n        \"description\": \"\"\n      }\n    },\n    {\n      \"column\": \"inTheMoney\",\n      \"properties\": {\n        \"dtype\": \"boolean\",\n        \"num_unique_values\": 1,\n        \"samples\": [\n          false\n        ],\n        \"semantic_type\": \"\",\n        \"description\": \"\"\n      }\n    },\n    {\n      \"column\": \"contractSize\",\n      \"properties\": {\n        \"dtype\": \"string\",\n        \"num_unique_values\": 1,\n        \"samples\": [\n          \"REGULAR\"\n        ],\n        \"semantic_type\": \"\",\n        \"description\": \"\"\n      }\n    },\n    {\n      \"column\": \"currency\",\n      \"properties\": {\n        \"dtype\": \"string\",\n        \"num_unique_values\": 1,\n        \"samples\": [\n          \"USD\"\n        ],\n        \"semantic_type\": \"\",\n        \"description\": \"\"\n      }\n    }\n  ]\n}"
            }
          },
          "metadata": {},
          "execution_count": 66
        }
      ]
    },
    {
      "cell_type": "markdown",
      "source": [
        "#Quantitative Analysis of Options Data\n"
      ],
      "metadata": {
        "id": "V4hZiVsDMOWj"
      }
    },
    {
      "cell_type": "markdown",
      "source": [
        "## Feature Engineering"
      ],
      "metadata": {
        "id": "DiYV3bo3MOUf"
      }
    },
    {
      "cell_type": "markdown",
      "source": [
        "We can extract different categories of features from our dataset:\n",
        "\n",
        "**Basic Features:**\n",
        "*   Bid Price\n",
        "*   Ask Price\n",
        "*   Option Type (call/put)\n",
        "*   Implied Volatility\n",
        "*   Expiration Date (DTE)\n",
        "*   Strike Price\n",
        "\n",
        "**Derived Features (Greeks)**\n",
        "* Delta (Δ)\n",
        "* Gamma (Γ)\n",
        "* Theta (Θ)\n",
        "* Vega (ν)\n",
        "\n",
        "**Technical Indicators**\n",
        "* Moving Average\n",
        "* Bollinger Bands\n",
        "* Relative Strength Index\n",
        "\n",
        "\n",
        "These features will be incorporated into the machine learning model, so it has a complete image of the options contract and its interplay with the market.\n"
      ],
      "metadata": {
        "id": "PFDaIMu4SCml"
      }
    },
    {
      "cell_type": "markdown",
      "source": [
        "## Black-Scholes Greeks Calculation"
      ],
      "metadata": {
        "id": "uau-LMd8VSry"
      }
    },
    {
      "cell_type": "markdown",
      "source": [
        "Calculate the Delta (Δ).\n",
        "* Δ measures the rate of change of the options price with respect to the underlying assets price (per $1).\n",
        "* Mathematically this as the first derivative of the option price: Δ = ∂V/∂S\n",
        "* We will be calculating the Δ using the Black-Scholes option pricing model:\n",
        " * Delta formula for call options Δ=(ln(S/K)+(r+σ²/2))/σ√t\n",
        "\n",
        "   * K is the option strike price.\n",
        "   * N represents the standard normal cumulative distribution function.\n",
        "   * r is the risk-free interest rate.\n",
        "   * σ stands for the underlying asset volatility.\n",
        "   * S is the underlying asset price.\n",
        "   * t is the time until the option expires.\n"
      ],
      "metadata": {
        "id": "DmLPXsRFVdXW"
      }
    },
    {
      "cell_type": "code",
      "source": [
        "def calculate_delta(stock_price, strike_price, risk_free_rate, time_to_expiry, implied_volatility):\n",
        "  \"\"\"\n",
        "    Documentation:\n",
        "    Calculates the delta of an option using the Black-Scholes model.\n",
        "\n",
        "    Args:\n",
        "       stock_price (float): Current price of the underlying asset.\n",
        "       strike_price (float): Strike price of the option contract.\n",
        "       risk_free_rate (float): Risk-free interest rate.\n",
        "       time_to_expiry (float): Time to expiry of the option in years.\n",
        "       implied_volatility (float): Implied volatility of the option.\n",
        "\n",
        "    Returns:\n",
        "       float: The calculated delta value.\n",
        "   \"\"\"\n",
        "  delta = (np.log(stock_price / strike_price) + (risk_free_rate + 0.5 * implied_volatility**2) * time_to_expiry) \\\n",
        "   / (implied_volatility * np.sqrt(time_to_expiry))\n",
        "  return norm.cdf(delta)"
      ],
      "metadata": {
        "id": "4Wp4M-gIVXBg"
      },
      "execution_count": 67,
      "outputs": []
    },
    {
      "cell_type": "code",
      "source": [
        "#Example: calculate the delta of the selected GOOGL call option\n",
        "googl_call_delta = calculate_delta(\n",
        "   stock_price= googl_closing_prices.loc[last_working_day()],\n",
        "   strike_price=175,\n",
        "   risk_free_rate=0.0460, #approx current risk-free rate\n",
        "   time_to_expiry=(datetime(year=2025, month=1, day=17) - datetime.now()).days / 365,\n",
        "   implied_volatility=googl_call_data[\"impliedVolatility\"].iloc[0]\n",
        ")\n",
        "print(f'Delta of GOOGL call option: {googl_call_delta:.4f}')"
      ],
      "metadata": {
        "colab": {
          "base_uri": "https://localhost:8080/"
        },
        "id": "4Uaj2-EWZUxt",
        "outputId": "dc7954d0-fc0e-4013-d5a2-154cebd9c980"
      },
      "execution_count": 68,
      "outputs": [
        {
          "output_type": "stream",
          "name": "stdout",
          "text": [
            "Delta of GOOGL call option: 0.0014\n"
          ]
        }
      ]
    },
    {
      "cell_type": "markdown",
      "source": [
        "Calculate the Gamma (Γ):\n",
        "\n",
        "* Γ measures the rate of which the delta changes with respect to the underlying asset's price (per $1)\n",
        "* Mathematically Γ is the second derivative of the option price with respect to the underlying asset price: Γ = ∂²V/∂S²\n",
        "* We will be calculating the gamma using the Black-Scholes model:\n",
        "  * Γ=ϕ(Δ1)/Sσ√t\n",
        "    * Δ=(ln(S/K)+(r+σ²/2))/σ√t\n",
        "    * K is the option strike price.\n",
        "   * N represents the standard normal cumulative distribution function.\n",
        "   * r is the risk-free interest rate.\n",
        "   * σ stands for the underlying asset volatility.\n",
        "   * S is the underlying asset price.\n",
        "   * t is the time until the option expires.\n",
        "\n"
      ],
      "metadata": {
        "id": "iud04aKLco_5"
      }
    },
    {
      "cell_type": "code",
      "source": [
        "def calculate_gamma(stock_price,strike_price, risk_free_rate,time_to_expiry, implied_volatility):\n",
        "  \"\"\"\n",
        "    Documentation:\n",
        "\n",
        "    Calculates the gamma of an option using the Black-Scholes model.\n",
        "\n",
        "    Args:\n",
        "           stock_price (float): Current price of the underlying asset.\n",
        "           strike_price (float): Strike price of the option contract.\n",
        "           risk_free_rate (float): Risk-free interest rate.\n",
        "           time_to_expiry (float): Time to expiry of the option in years.\n",
        "           implied_volatility (float): Implied volatility of the option.\n",
        "    Returns:\n",
        "           float: The calculated gamma value.\n",
        "  \"\"\"\n",
        "  delta1 = (np.log(stock_price / strike_price) + (risk_free_rate + 0.5 * implied_volatility**2) * time_to_expiry) \\\n",
        "   / (implied_volatility * np.sqrt(time_to_expiry))\n",
        "\n",
        "  delta2 = delta1 - implied_volatility *np.sqrt(time_to_expiry)\n",
        "\n",
        "  gamma = norm.pdf(delta1) / (stock_price * implied_volatility *np.sqrt(time_to_expiry))\n",
        "\n",
        "  return gamma\n"
      ],
      "metadata": {
        "id": "3qro3DT4b0D4"
      },
      "execution_count": 69,
      "outputs": []
    },
    {
      "cell_type": "code",
      "source": [
        "#Example: calculate gamma for GOOGL call option selected\n",
        "\n",
        "googl_call_gamma = calculate_gamma(\n",
        "  stock_price= googl_closing_prices.loc[last_working_day()],\n",
        "  strike_price=175,\n",
        "  risk_free_rate=0.0460, #approx current risk-free rate\n",
        "  time_to_expiry=(datetime(year=2025, month=1, day=17) - datetime.now()).days / 365,\n",
        "  implied_volatility=googl_call_data[\"impliedVolatility\"].iloc[0]\n",
        ")\n",
        "\n",
        "print(f'Gamma of GOOGL call option: {googl_call_gamma:.4f}')\n"
      ],
      "metadata": {
        "colab": {
          "base_uri": "https://localhost:8080/"
        },
        "id": "LyJJnz3pmkaq",
        "outputId": "9edd9d36-2e42-4a0c-afa0-bbcb54ad298c"
      },
      "execution_count": 70,
      "outputs": [
        {
          "output_type": "stream",
          "name": "stdout",
          "text": [
            "Gamma of GOOGL call option: 0.0021\n"
          ]
        }
      ]
    },
    {
      "cell_type": "markdown",
      "source": [
        "Calculate the Theta (Θ):\n",
        "* Θ measures the rate of change of an options price concerning changes in time to expiration\n",
        "* This is also called time decay, as options lose their time premium as they get closer to expiration\n",
        "* Mathematically Θ is the first derivative of the option price with respect to time: Θ = ∂V/∂t\n",
        "* We will be calculating the Θ using the Black-Scholes model:\n",
        "  * ![black-scholes-call-theta-formula.png](data:image/png;base64,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)\n",
        "    *  Δ=(ln(S/K)+(r+σ²/2))/σ√t\n",
        "    * K is the option strike price.\n",
        "   * N represents the standard normal cumulative distribution function.\n",
        "   * r is the risk-free interest rate.\n",
        "   * σ stands for the underlying asset volatility.\n",
        "   * S is the underlying asset price.\n",
        "   * t is the time until the option expires.\n"
      ],
      "metadata": {
        "id": "7q4NrbbfrEC1"
      }
    },
    {
      "cell_type": "code",
      "source": [
        "def calculate_theta(stock_price, strike_price, risk_free_rate,time_to_expiry, implied_volatility):\n",
        "  \"\"\"\n",
        "  Documentation:\n",
        "  Calculates the theta of an option using the Black-Scholes model.\n",
        "\n",
        "   Args:\n",
        "           stock_price (float): Current price of the underlying asset.\n",
        "           strike_price (float): Strike price of the option contract.\n",
        "           risk_free_rate (float): Risk-free interest rate.\n",
        "           time_to_expiry (float): Time to expiry of the option in years.\n",
        "           implied_volatility (float): Implied volatility of the option.\n",
        "  Returns:\n",
        "           float: The calculated theta value.\n",
        "  \"\"\"\n",
        "  delta1 = (np.log(stock_price / strike_price) + (risk_free_rate + 0.5 * implied_volatility**2) * time_to_expiry) \\\n",
        "   / (implied_volatility * np.sqrt(time_to_expiry))\n",
        "\n",
        "  delta2 = delta1 - implied_volatility *np.sqrt(time_to_expiry)\n",
        "\n",
        "  theta = -(stock_price *norm.pdf(delta1) *implied_volatility) / (2* np.sqrt(time_to_expiry)) \\\n",
        "  - risk_free_rate * strike_price * np.exp(-risk_free_rate * time_to_expiry) * norm.cdf(delta2)\n",
        "\n",
        "  theta = theta /365 # the current formula calculates time decay for the year, but we want it per day, so we divide it 365.\n",
        "\n",
        "  return theta"
      ],
      "metadata": {
        "id": "Oy0bCQMHm6aH"
      },
      "execution_count": 71,
      "outputs": []
    },
    {
      "cell_type": "code",
      "source": [
        "#Example: Calculate the theta for the GOOGL call option:\n",
        "\n",
        "googl_call_theta = calculate_theta(\n",
        "  stock_price= googl_closing_prices.loc[last_working_day()],\n",
        "  strike_price=175,\n",
        "  risk_free_rate=0.046, #approx current risk-free rate\n",
        "  time_to_expiry=(datetime(year=2025, month=1, day=17) - datetime.now()).days / 365,\n",
        "  implied_volatility=googl_call_data[\"impliedVolatility\"].iloc[0]\n",
        ")\n",
        "\n",
        "print(f'Theta of GOOGL call option { googl_call_theta:.4f}')\n"
      ],
      "metadata": {
        "colab": {
          "base_uri": "https://localhost:8080/"
        },
        "id": "-qtyFub-tcOo",
        "outputId": "b87bcb03-7411-408e-91d7-1097b01c2a65"
      },
      "execution_count": 72,
      "outputs": [
        {
          "output_type": "stream",
          "name": "stdout",
          "text": [
            "Theta of GOOGL call option -0.0000\n"
          ]
        }
      ]
    },
    {
      "cell_type": "markdown",
      "source": [
        "Calculate Vega (ν):\n",
        "* ν is the rate of change of an options price with respect to the volatility of the underlying asset\n",
        "* Mathematically vega is the first derivative of the option price with respect to volatility: ν = ∂V/∂σ\n",
        "* We will calculate the vega using the Black Scholes model:\n",
        "  *  v = e\n",
        "^(−qT) S\n",
        "√\n",
        "T φ(d1).\n",
        "    *  d1 =(ln(S/K)+(r+σ²/2))/σ√t\n",
        "    * K is the option strike price.\n",
        "   * N represents the standard normal cumulative distribution function.\n",
        "   * r is the risk-free interest rate.\n",
        "   * σ stands for the underlying asset volatility.\n",
        "   * S is the underlying asset price.\n",
        "   * t is the time until the option expires.\n"
      ],
      "metadata": {
        "id": "atq2KVob_E5t"
      }
    },
    {
      "cell_type": "code",
      "source": [
        "def calculate_vega(stock_price, strike_price, risk_free_rate,time_to_expiry, implied_volatility):\n",
        "  \"\"\"\n",
        "  Documentation:\n",
        "\n",
        "  Calculates the vega of an option using the Black-Scholes model.\n",
        "\n",
        "  Args:\n",
        "           stock_price (float): Current price of the underlying asset.\n",
        "           strike_price (float): Strike price of the option contract.\n",
        "           risk_free_rate (float): Risk-free interest rate.\n",
        "           time_to_expiry (float): Time to expiry of the option in years.\n",
        "           implied_volatility (float): Implied volatility of the option.\n",
        "  Returns:\n",
        "           float: The calculated vega value.\n",
        "  \"\"\"\n",
        "\n",
        "  delta1 = (np.log(stock_price / strike_price) + (risk_free_rate + 0.5 * implied_volatility**2) * time_to_expiry) \\\n",
        "  / (implied_volatility * np.sqrt(time_to_expiry))\n",
        "\n",
        "  vega = stock_price *norm.pdf(delta1) * np.sqrt(time_to_expiry)\n",
        "\n",
        "  vega = vega *0.01 #in practical use, we want the vega with respect to a one percent change in interest rate, not a one unit change.\n",
        "\n",
        "  return vega\n"
      ],
      "metadata": {
        "id": "VrGoh5diuFLj"
      },
      "execution_count": 73,
      "outputs": []
    },
    {
      "cell_type": "code",
      "source": [
        "#Example: Calculate the vega for the GOOGL call option:\n",
        "\n",
        "googl_call_vega = calculate_vega(\n",
        "  stock_price= googl_closing_prices.loc[last_working_day()],\n",
        "  strike_price=175,\n",
        "  risk_free_rate=0.046, #approx current risk-free rate\n",
        "  time_to_expiry=(datetime(year=2025, month=1, day=17) - datetime.now()).days / 365,\n",
        "  implied_volatility=googl_call_data[\"impliedVolatility\"].iloc[0]\n",
        ")\n",
        "\n",
        "print(f'Vega of GOOGL call option { googl_call_vega:.4f}')\n"
      ],
      "metadata": {
        "colab": {
          "base_uri": "https://localhost:8080/"
        },
        "id": "1PgU4dHMCSjU",
        "outputId": "cc1ba5dc-2589-4664-b2aa-c33678b3435a"
      },
      "execution_count": 74,
      "outputs": [
        {
          "output_type": "stream",
          "name": "stdout",
          "text": [
            "Vega of GOOGL call option 0.0062\n"
          ]
        }
      ]
    },
    {
      "cell_type": "markdown",
      "source": [
        "# Utilizing Deep Learning with Keras\n",
        "\n",
        "I will be using JPMorgan Chase & Co. as our example to build the deep learning model around and create the optimal options strategy.\n",
        "\n",
        "This project will focus solely on call options"
      ],
      "metadata": {
        "id": "OHuQC4RRDQOF"
      }
    },
    {
      "cell_type": "markdown",
      "source": [
        "## Dataset Construction and Structuring\n"
      ],
      "metadata": {
        "id": "PMhW8ZPxGH6H"
      }
    },
    {
      "cell_type": "code",
      "source": [
        "def calculate_options_greeks(row):\n",
        "  \"\"\"\n",
        "  Documentation:\n",
        "\n",
        "  Calculates all the options greeks defined in the previous section using the Black-Scholes model:\n",
        "\n",
        "  Args:\n",
        "          row (Dataframe row): will be an options contract, holding all its related basic features\n",
        "\n",
        "  Returns:\n",
        "\n",
        "          delta, gamma, theta, vega (float): the calculated greeks\n",
        "\n",
        "\n",
        "          Exception case:\n",
        "          A tuple of np.nan constants with each np.nan corresponding to a greek\n",
        "\n",
        "  \"\"\"\n",
        "  try:\n",
        "      delta1 = (np.log(row['lastPrice'] / row['strike']) + (0.02 + 0.5 * row['impliedVolatility']**2) * row['time_to_expiry']) \\\n",
        "      / (row['impliedVolatility'] * np.sqrt(row['time_to_expiry'])) #calculate d1\n",
        "\n",
        "      delta = norm.cdf(delta1) #the actual delta\n",
        "\n",
        "      gamma = norm.pdf(delta1) / (row['lastPrice'] * row['impliedVolatility'] * np.sqrt(row['time_to_expiry'])) #calculate gamma\n",
        "\n",
        "      delta2 = delta1 - row['impliedVolatility'] * np.sqrt(row['time_to_expiry']) #calculate d2\n",
        "\n",
        "      theta = -(row['lastPrice'] * norm.pdf(delta1) * row['impliedVolatility']) / (2 * np.sqrt(row['time_to_expiry'])) \\\n",
        "      - 0.02 * row['strike'] * np.exp(-0.02 * row['time_to_expiry']) * norm.cdf(delta2) #calculate theta\n",
        "\n",
        "      vega = row['lastPrice'] * norm.pdf(delta1) * np.sqrt(row['time_to_expiry']) #calculate vega\n",
        "\n",
        "      return delta, gamma, theta, vega\n",
        "\n",
        "\n",
        "\n",
        "  except Exception as e:\n",
        "\n",
        "    print(f'Encountered the following error during Greek calculation: {e}')\n",
        "\n",
        "    raise #re-raise the exception to continue propagating up the call stack\n",
        "\n",
        "    return np.nan,np.nan,np.nan,np.nan\n",
        "\n",
        "\n"
      ],
      "metadata": {
        "id": "o0iPdhcBDua6"
      },
      "execution_count": 75,
      "outputs": []
    },
    {
      "cell_type": "code",
      "source": [
        "#Example: Initializing a Ticker Object for the ticker JPM\n",
        "\n",
        "ticker_symbol = 'JPM' #change this for a different ticker\n",
        "\n",
        "#Create a yahooFinance ticker object for JPM\n",
        "jpm_ticker = yf.Ticker(ticker_symbol)\n",
        "\n",
        "# Get all the availibe/currently listed expiration dates\n",
        "expiration_dates = jpm_ticker.options\n",
        "\n",
        "#init an empty dataframe to store the dataset\n",
        "options_dataset = pd.DataFrame()"
      ],
      "metadata": {
        "id": "SkfzGwGeSmqd"
      },
      "execution_count": 76,
      "outputs": []
    },
    {
      "cell_type": "code",
      "source": [
        "\n",
        "\n",
        "#To build the call options dataset, we can iterate over all the expiration dates\n",
        "for expiration_date in expiration_dates:\n",
        "  #Fetch the JPM options data for the expiration date currently selected\n",
        "  jpm_options = jpm_ticker.option_chain(expiration_date)\n",
        "  #For this project, I will only be using the calls data\n",
        "  jpm_calls = jpm_options.calls\n",
        "  #Define a column in the dataframe for expiration_dates\n",
        "  jpm_calls['expiration_date'] = expiration_date\n",
        "\n",
        "  #Calculate the \"Moneyness\"\n",
        "  ''' Moneyness is the relationship betwen the price of the underlying asset and the strike price:\n",
        "        Out-of-the-money (OTM): Stock price is below the strike price of the call option\n",
        "        In-the-Money (ITM): Stock price is above the strike price of the call option\n",
        "        At-the-Money (ATM): Stock price is equal to strike price, if the option were to expire at that moment, it would have no intrinsic value\n",
        "  '''\n",
        "\n",
        "  jpm_calls['Moneyness'] = jpm_calls['lastPrice'] / jpm_calls['strike']\n",
        "\n",
        "  #Calculate time to expiry in a new column\n",
        "\n",
        "  jpm_calls['time_to_expiry'] = (pd.to_datetime(expiration_date) - pd.Timestamp.now()).days\n",
        "\n",
        "  #Using the function defined above, we will calculate the greeks:\n",
        "  jpm_calls[['delta', 'gamma', 'theta', 'vega']] = jpm_calls.apply(calculate_options_greeks, axis=1, result_type='expand')\n",
        "\n",
        "\n",
        "  #Append the current option to the overall dataset:\n",
        "  options_dataset = pd.concat([options_dataset, jpm_calls], ignore_index=True)\n",
        "\n",
        "\n",
        "#Display a random five option contracts for a feel for the structure of the , sample for the first 100 rows, so we have relatively closer expiring contracts.\n",
        "options_dataset.head(100).sample(n=5)\n",
        "\n",
        "\n",
        "\n"
      ],
      "metadata": {
        "colab": {
          "base_uri": "https://localhost:8080/",
          "height": 342
        },
        "id": "1TbIirJqSgAJ",
        "outputId": "1358ba19-3298-476d-87f7-7821b48d52c8"
      },
      "execution_count": 77,
      "outputs": [
        {
          "output_type": "execute_result",
          "data": {
            "text/plain": [
              "        contractSymbol             lastTradeDate  strike  lastPrice  bid  ask  \\\n",
              "80  JPM240517C00207500 2024-04-30 14:36:59+00:00   207.5       0.20  0.0  0.0   \n",
              "30  JPM240510C00170000 2024-04-26 16:49:19+00:00   170.0      24.53  0.0  0.0   \n",
              "0   JPM240503C00155000 2024-04-29 14:36:15+00:00   155.0      39.11  0.0  0.0   \n",
              "27  JPM240503C00240000 2024-04-19 19:30:16+00:00   240.0       0.01  0.0  0.0   \n",
              "61  JPM240517C00145000 2024-04-30 13:52:03+00:00   145.0      49.72  0.0  0.0   \n",
              "\n",
              "    change  percentChange  volume  openInterest  ...  inTheMoney  \\\n",
              "80     0.0            0.0     4.0             0  ...       False   \n",
              "30     0.0            0.0    10.0             0  ...        True   \n",
              "0      0.0            0.0     1.0             0  ...        True   \n",
              "27     0.0            0.0     1.0             0  ...       False   \n",
              "61     0.0            0.0     5.0             0  ...        True   \n",
              "\n",
              "    contractSize currency expiration_date Moneyness  time_to_expiry  \\\n",
              "80       REGULAR      USD      2024-05-17  0.000964              15   \n",
              "30       REGULAR      USD      2024-05-10  0.144294               8   \n",
              "0        REGULAR      USD      2024-05-03  0.252323               1   \n",
              "27       REGULAR      USD      2024-05-03  0.000042               1   \n",
              "61       REGULAR      USD      2024-05-17  0.342897              15   \n",
              "\n",
              "            delta          gamma          theta           vega  \n",
              "80  1.077469e-164  6.088637e-162 -5.185388e-166  2.283581e-163  \n",
              "30   0.000000e+00   0.000000e+00  -0.000000e+00   0.000000e+00  \n",
              "0    0.000000e+00   0.000000e+00  -0.000000e+00   0.000000e+00  \n",
              "27   2.947422e-88   1.174917e-84  -1.474426e-89   5.874642e-89  \n",
              "61   0.000000e+00   0.000000e+00  -0.000000e+00   0.000000e+00  \n",
              "\n",
              "[5 rows x 21 columns]"
            ],
            "text/html": [
              "\n",
              "  <div id=\"df-cd945664-2b3c-47a2-b235-b459168eff77\" class=\"colab-df-container\">\n",
              "    <div>\n",
              "<style scoped>\n",
              "    .dataframe tbody tr th:only-of-type {\n",
              "        vertical-align: middle;\n",
              "    }\n",
              "\n",
              "    .dataframe tbody tr th {\n",
              "        vertical-align: top;\n",
              "    }\n",
              "\n",
              "    .dataframe thead th {\n",
              "        text-align: right;\n",
              "    }\n",
              "</style>\n",
              "<table border=\"1\" class=\"dataframe\">\n",
              "  <thead>\n",
              "    <tr style=\"text-align: right;\">\n",
              "      <th></th>\n",
              "      <th>contractSymbol</th>\n",
              "      <th>lastTradeDate</th>\n",
              "      <th>strike</th>\n",
              "      <th>lastPrice</th>\n",
              "      <th>bid</th>\n",
              "      <th>ask</th>\n",
              "      <th>change</th>\n",
              "      <th>percentChange</th>\n",
              "      <th>volume</th>\n",
              "      <th>openInterest</th>\n",
              "      <th>...</th>\n",
              "      <th>inTheMoney</th>\n",
              "      <th>contractSize</th>\n",
              "      <th>currency</th>\n",
              "      <th>expiration_date</th>\n",
              "      <th>Moneyness</th>\n",
              "      <th>time_to_expiry</th>\n",
              "      <th>delta</th>\n",
              "      <th>gamma</th>\n",
              "      <th>theta</th>\n",
              "      <th>vega</th>\n",
              "    </tr>\n",
              "  </thead>\n",
              "  <tbody>\n",
              "    <tr>\n",
              "      <th>80</th>\n",
              "      <td>JPM240517C00207500</td>\n",
              "      <td>2024-04-30 14:36:59+00:00</td>\n",
              "      <td>207.5</td>\n",
              "      <td>0.20</td>\n",
              "      <td>0.0</td>\n",
              "      <td>0.0</td>\n",
              "      <td>0.0</td>\n",
              "      <td>0.0</td>\n",
              "      <td>4.0</td>\n",
              "      <td>0</td>\n",
              "      <td>...</td>\n",
              "      <td>False</td>\n",
              "      <td>REGULAR</td>\n",
              "      <td>USD</td>\n",
              "      <td>2024-05-17</td>\n",
              "      <td>0.000964</td>\n",
              "      <td>15</td>\n",
              "      <td>1.077469e-164</td>\n",
              "      <td>6.088637e-162</td>\n",
              "      <td>-5.185388e-166</td>\n",
              "      <td>2.283581e-163</td>\n",
              "    </tr>\n",
              "    <tr>\n",
              "      <th>30</th>\n",
              "      <td>JPM240510C00170000</td>\n",
              "      <td>2024-04-26 16:49:19+00:00</td>\n",
              "      <td>170.0</td>\n",
              "      <td>24.53</td>\n",
              "      <td>0.0</td>\n",
              "      <td>0.0</td>\n",
              "      <td>0.0</td>\n",
              "      <td>0.0</td>\n",
              "      <td>10.0</td>\n",
              "      <td>0</td>\n",
              "      <td>...</td>\n",
              "      <td>True</td>\n",
              "      <td>REGULAR</td>\n",
              "      <td>USD</td>\n",
              "      <td>2024-05-10</td>\n",
              "      <td>0.144294</td>\n",
              "      <td>8</td>\n",
              "      <td>0.000000e+00</td>\n",
              "      <td>0.000000e+00</td>\n",
              "      <td>-0.000000e+00</td>\n",
              "      <td>0.000000e+00</td>\n",
              "    </tr>\n",
              "    <tr>\n",
              "      <th>0</th>\n",
              "      <td>JPM240503C00155000</td>\n",
              "      <td>2024-04-29 14:36:15+00:00</td>\n",
              "      <td>155.0</td>\n",
              "      <td>39.11</td>\n",
              "      <td>0.0</td>\n",
              "      <td>0.0</td>\n",
              "      <td>0.0</td>\n",
              "      <td>0.0</td>\n",
              "      <td>1.0</td>\n",
              "      <td>0</td>\n",
              "      <td>...</td>\n",
              "      <td>True</td>\n",
              "      <td>REGULAR</td>\n",
              "      <td>USD</td>\n",
              "      <td>2024-05-03</td>\n",
              "      <td>0.252323</td>\n",
              "      <td>1</td>\n",
              "      <td>0.000000e+00</td>\n",
              "      <td>0.000000e+00</td>\n",
              "      <td>-0.000000e+00</td>\n",
              "      <td>0.000000e+00</td>\n",
              "    </tr>\n",
              "    <tr>\n",
              "      <th>27</th>\n",
              "      <td>JPM240503C00240000</td>\n",
              "      <td>2024-04-19 19:30:16+00:00</td>\n",
              "      <td>240.0</td>\n",
              "      <td>0.01</td>\n",
              "      <td>0.0</td>\n",
              "      <td>0.0</td>\n",
              "      <td>0.0</td>\n",
              "      <td>0.0</td>\n",
              "      <td>1.0</td>\n",
              "      <td>0</td>\n",
              "      <td>...</td>\n",
              "      <td>False</td>\n",
              "      <td>REGULAR</td>\n",
              "      <td>USD</td>\n",
              "      <td>2024-05-03</td>\n",
              "      <td>0.000042</td>\n",
              "      <td>1</td>\n",
              "      <td>2.947422e-88</td>\n",
              "      <td>1.174917e-84</td>\n",
              "      <td>-1.474426e-89</td>\n",
              "      <td>5.874642e-89</td>\n",
              "    </tr>\n",
              "    <tr>\n",
              "      <th>61</th>\n",
              "      <td>JPM240517C00145000</td>\n",
              "      <td>2024-04-30 13:52:03+00:00</td>\n",
              "      <td>145.0</td>\n",
              "      <td>49.72</td>\n",
              "      <td>0.0</td>\n",
              "      <td>0.0</td>\n",
              "      <td>0.0</td>\n",
              "      <td>0.0</td>\n",
              "      <td>5.0</td>\n",
              "      <td>0</td>\n",
              "      <td>...</td>\n",
              "      <td>True</td>\n",
              "      <td>REGULAR</td>\n",
              "      <td>USD</td>\n",
              "      <td>2024-05-17</td>\n",
              "      <td>0.342897</td>\n",
              "      <td>15</td>\n",
              "      <td>0.000000e+00</td>\n",
              "      <td>0.000000e+00</td>\n",
              "      <td>-0.000000e+00</td>\n",
              "      <td>0.000000e+00</td>\n",
              "    </tr>\n",
              "  </tbody>\n",
              "</table>\n",
              "<p>5 rows × 21 columns</p>\n",
              "</div>\n",
              "    <div class=\"colab-df-buttons\">\n",
              "\n",
              "  <div class=\"colab-df-container\">\n",
              "    <button class=\"colab-df-convert\" onclick=\"convertToInteractive('df-cd945664-2b3c-47a2-b235-b459168eff77')\"\n",
              "            title=\"Convert this dataframe to an interactive table.\"\n",
              "            style=\"display:none;\">\n",
              "\n",
              "  <svg xmlns=\"http://www.w3.org/2000/svg\" height=\"24px\" viewBox=\"0 -960 960 960\">\n",
              "    <path d=\"M120-120v-720h720v720H120Zm60-500h600v-160H180v160Zm220 220h160v-160H400v160Zm0 220h160v-160H400v160ZM180-400h160v-160H180v160Zm440 0h160v-160H620v160ZM180-180h160v-160H180v160Zm440 0h160v-160H620v160Z\"/>\n",
              "  </svg>\n",
              "    </button>\n",
              "\n",
              "  <style>\n",
              "    .colab-df-container {\n",
              "      display:flex;\n",
              "      gap: 12px;\n",
              "    }\n",
              "\n",
              "    .colab-df-convert {\n",
              "      background-color: #E8F0FE;\n",
              "      border: none;\n",
              "      border-radius: 50%;\n",
              "      cursor: pointer;\n",
              "      display: none;\n",
              "      fill: #1967D2;\n",
              "      height: 32px;\n",
              "      padding: 0 0 0 0;\n",
              "      width: 32px;\n",
              "    }\n",
              "\n",
              "    .colab-df-convert:hover {\n",
              "      background-color: #E2EBFA;\n",
              "      box-shadow: 0px 1px 2px rgba(60, 64, 67, 0.3), 0px 1px 3px 1px rgba(60, 64, 67, 0.15);\n",
              "      fill: #174EA6;\n",
              "    }\n",
              "\n",
              "    .colab-df-buttons div {\n",
              "      margin-bottom: 4px;\n",
              "    }\n",
              "\n",
              "    [theme=dark] .colab-df-convert {\n",
              "      background-color: #3B4455;\n",
              "      fill: #D2E3FC;\n",
              "    }\n",
              "\n",
              "    [theme=dark] .colab-df-convert:hover {\n",
              "      background-color: #434B5C;\n",
              "      box-shadow: 0px 1px 3px 1px rgba(0, 0, 0, 0.15);\n",
              "      filter: drop-shadow(0px 1px 2px rgba(0, 0, 0, 0.3));\n",
              "      fill: #FFFFFF;\n",
              "    }\n",
              "  </style>\n",
              "\n",
              "    <script>\n",
              "      const buttonEl =\n",
              "        document.querySelector('#df-cd945664-2b3c-47a2-b235-b459168eff77 button.colab-df-convert');\n",
              "      buttonEl.style.display =\n",
              "        google.colab.kernel.accessAllowed ? 'block' : 'none';\n",
              "\n",
              "      async function convertToInteractive(key) {\n",
              "        const element = document.querySelector('#df-cd945664-2b3c-47a2-b235-b459168eff77');\n",
              "        const dataTable =\n",
              "          await google.colab.kernel.invokeFunction('convertToInteractive',\n",
              "                                                    [key], {});\n",
              "        if (!dataTable) return;\n",
              "\n",
              "        const docLinkHtml = 'Like what you see? Visit the ' +\n",
              "          '<a target=\"_blank\" href=https://colab.research.google.com/notebooks/data_table.ipynb>data table notebook</a>'\n",
              "          + ' to learn more about interactive tables.';\n",
              "        element.innerHTML = '';\n",
              "        dataTable['output_type'] = 'display_data';\n",
              "        await google.colab.output.renderOutput(dataTable, element);\n",
              "        const docLink = document.createElement('div');\n",
              "        docLink.innerHTML = docLinkHtml;\n",
              "        element.appendChild(docLink);\n",
              "      }\n",
              "    </script>\n",
              "  </div>\n",
              "\n",
              "\n",
              "<div id=\"df-3b82c38f-6fac-47ea-a638-80312b7f6739\">\n",
              "  <button class=\"colab-df-quickchart\" onclick=\"quickchart('df-3b82c38f-6fac-47ea-a638-80312b7f6739')\"\n",
              "            title=\"Suggest charts\"\n",
              "            style=\"display:none;\">\n",
              "\n",
              "<svg xmlns=\"http://www.w3.org/2000/svg\" height=\"24px\"viewBox=\"0 0 24 24\"\n",
              "     width=\"24px\">\n",
              "    <g>\n",
              "        <path d=\"M19 3H5c-1.1 0-2 .9-2 2v14c0 1.1.9 2 2 2h14c1.1 0 2-.9 2-2V5c0-1.1-.9-2-2-2zM9 17H7v-7h2v7zm4 0h-2V7h2v10zm4 0h-2v-4h2v4z\"/>\n",
              "    </g>\n",
              "</svg>\n",
              "  </button>\n",
              "\n",
              "<style>\n",
              "  .colab-df-quickchart {\n",
              "      --bg-color: #E8F0FE;\n",
              "      --fill-color: #1967D2;\n",
              "      --hover-bg-color: #E2EBFA;\n",
              "      --hover-fill-color: #174EA6;\n",
              "      --disabled-fill-color: #AAA;\n",
              "      --disabled-bg-color: #DDD;\n",
              "  }\n",
              "\n",
              "  [theme=dark] .colab-df-quickchart {\n",
              "      --bg-color: #3B4455;\n",
              "      --fill-color: #D2E3FC;\n",
              "      --hover-bg-color: #434B5C;\n",
              "      --hover-fill-color: #FFFFFF;\n",
              "      --disabled-bg-color: #3B4455;\n",
              "      --disabled-fill-color: #666;\n",
              "  }\n",
              "\n",
              "  .colab-df-quickchart {\n",
              "    background-color: var(--bg-color);\n",
              "    border: none;\n",
              "    border-radius: 50%;\n",
              "    cursor: pointer;\n",
              "    display: none;\n",
              "    fill: var(--fill-color);\n",
              "    height: 32px;\n",
              "    padding: 0;\n",
              "    width: 32px;\n",
              "  }\n",
              "\n",
              "  .colab-df-quickchart:hover {\n",
              "    background-color: var(--hover-bg-color);\n",
              "    box-shadow: 0 1px 2px rgba(60, 64, 67, 0.3), 0 1px 3px 1px rgba(60, 64, 67, 0.15);\n",
              "    fill: var(--button-hover-fill-color);\n",
              "  }\n",
              "\n",
              "  .colab-df-quickchart-complete:disabled,\n",
              "  .colab-df-quickchart-complete:disabled:hover {\n",
              "    background-color: var(--disabled-bg-color);\n",
              "    fill: var(--disabled-fill-color);\n",
              "    box-shadow: none;\n",
              "  }\n",
              "\n",
              "  .colab-df-spinner {\n",
              "    border: 2px solid var(--fill-color);\n",
              "    border-color: transparent;\n",
              "    border-bottom-color: var(--fill-color);\n",
              "    animation:\n",
              "      spin 1s steps(1) infinite;\n",
              "  }\n",
              "\n",
              "  @keyframes spin {\n",
              "    0% {\n",
              "      border-color: transparent;\n",
              "      border-bottom-color: var(--fill-color);\n",
              "      border-left-color: var(--fill-color);\n",
              "    }\n",
              "    20% {\n",
              "      border-color: transparent;\n",
              "      border-left-color: var(--fill-color);\n",
              "      border-top-color: var(--fill-color);\n",
              "    }\n",
              "    30% {\n",
              "      border-color: transparent;\n",
              "      border-left-color: var(--fill-color);\n",
              "      border-top-color: var(--fill-color);\n",
              "      border-right-color: var(--fill-color);\n",
              "    }\n",
              "    40% {\n",
              "      border-color: transparent;\n",
              "      border-right-color: var(--fill-color);\n",
              "      border-top-color: var(--fill-color);\n",
              "    }\n",
              "    60% {\n",
              "      border-color: transparent;\n",
              "      border-right-color: var(--fill-color);\n",
              "    }\n",
              "    80% {\n",
              "      border-color: transparent;\n",
              "      border-right-color: var(--fill-color);\n",
              "      border-bottom-color: var(--fill-color);\n",
              "    }\n",
              "    90% {\n",
              "      border-color: transparent;\n",
              "      border-bottom-color: var(--fill-color);\n",
              "    }\n",
              "  }\n",
              "</style>\n",
              "\n",
              "  <script>\n",
              "    async function quickchart(key) {\n",
              "      const quickchartButtonEl =\n",
              "        document.querySelector('#' + key + ' button');\n",
              "      quickchartButtonEl.disabled = true;  // To prevent multiple clicks.\n",
              "      quickchartButtonEl.classList.add('colab-df-spinner');\n",
              "      try {\n",
              "        const charts = await google.colab.kernel.invokeFunction(\n",
              "            'suggestCharts', [key], {});\n",
              "      } catch (error) {\n",
              "        console.error('Error during call to suggestCharts:', error);\n",
              "      }\n",
              "      quickchartButtonEl.classList.remove('colab-df-spinner');\n",
              "      quickchartButtonEl.classList.add('colab-df-quickchart-complete');\n",
              "    }\n",
              "    (() => {\n",
              "      let quickchartButtonEl =\n",
              "        document.querySelector('#df-3b82c38f-6fac-47ea-a638-80312b7f6739 button');\n",
              "      quickchartButtonEl.style.display =\n",
              "        google.colab.kernel.accessAllowed ? 'block' : 'none';\n",
              "    })();\n",
              "  </script>\n",
              "</div>\n",
              "    </div>\n",
              "  </div>\n"
            ],
            "application/vnd.google.colaboratory.intrinsic+json": {
              "type": "dataframe",
              "variable_name": "options_dataset"
            }
          },
          "metadata": {},
          "execution_count": 77
        }
      ]
    },
    {
      "cell_type": "markdown",
      "source": [
        "## Model Development and Training\n",
        "\n",
        "* Now that we have the dataset of our JPM contracts, we will now focus on building the deep learning model.\n",
        "* The model will use the greeks, moneyness, volatility, and DTE as features for our model.\n",
        "* Our target variable will the last price of the option.\n"
      ],
      "metadata": {
        "id": "T7U-HTNbXg1e"
      }
    },
    {
      "cell_type": "code",
      "source": [
        "#Define the target variable\n",
        "\n",
        "target_variable = 'lastPrice'\n",
        "\n",
        "# Create the features list for the model\n",
        "\n",
        "features = ['strike', 'Moneyness', 'time_to_expiry', 'impliedVolatility', 'delta', 'gamma', 'theta', 'vega']\n",
        "\n",
        "#Perform data cleaning (getting rid of NaNs)\n",
        "\n",
        "options_dataset = options_dataset.dropna()\n",
        "\n",
        "#Create the feature matrix and the target variable\n",
        "\n",
        "X = options_dataset[features].dropna()\n",
        "\n",
        "y =options_dataset[target_variable]\n",
        "\n",
        "#To avoid erroneous model training, we want ot scale the feature values\n",
        "\n",
        "scaler = StandardScaler()\n",
        "\n",
        "X_scaled = scaler.fit_transform(X)\n",
        "\n",
        "#Split the data into training and testing data sets with split 80/20.\n",
        "\n",
        "#It is not the best practice to use 42 as our random state, but we will be using it anyways!\n",
        "X_train, X_test, y_train, y_test = train_test_split(X_scaled, y, test_size=0.2, random_state=42)\n",
        "\n",
        "\n",
        "\n",
        "\n",
        "\n",
        "\n",
        "\n",
        "\n"
      ],
      "metadata": {
        "id": "5xAiApywXr5Z"
      },
      "execution_count": 78,
      "outputs": []
    },
    {
      "cell_type": "code",
      "source": [
        "#Build our layered neural network model\n",
        "\n",
        "model = Sequential()\n",
        "\n",
        "#add a ReLU activation layer\n",
        "model.add(Dense(128, input_dim = len(features), activation = 'relu'))\n",
        "\n",
        "#add a dropout layer to avoid overfitting\n",
        "\n",
        "model.add(Dropout(0.2))\n",
        "\n",
        "#add another ReLU activation layer\n",
        "model.add(Dense(64, activation='relu'))\n",
        "\n",
        "#add another dropout layer to avoid overfitting\n",
        "model.add(Dropout(0.2))\n",
        "\n",
        "#linear activation layer\n",
        "model.add(Dense(1, activation='linear'))\n",
        "\n",
        "#Compile our model with a MSE loss function, with an Adam optimizer deplpoyed for training\n",
        "model.compile(optimizer='adam', loss='mean_squared_error')\n",
        "\n",
        "#Finally, we can train the model:\n",
        "\n",
        "history = model.fit(X_train, y_train, epochs=50, batch_size=32, validation_data=(X_test, y_test))\n"
      ],
      "metadata": {
        "colab": {
          "base_uri": "https://localhost:8080/"
        },
        "id": "pYJA9PUggDiY",
        "outputId": "08c9f7f4-7233-482d-aa32-89f21f35e82c"
      },
      "execution_count": 79,
      "outputs": [
        {
          "output_type": "stream",
          "name": "stdout",
          "text": [
            "Epoch 1/50\n",
            "12/12 [==============================] - 1s 17ms/step - loss: 2231.1138 - val_loss: 1787.1071\n",
            "Epoch 2/50\n",
            "12/12 [==============================] - 0s 6ms/step - loss: 2125.7654 - val_loss: 1689.5459\n",
            "Epoch 3/50\n",
            "12/12 [==============================] - 0s 6ms/step - loss: 1968.2878 - val_loss: 1530.7943\n",
            "Epoch 4/50\n",
            "12/12 [==============================] - 0s 5ms/step - loss: 1710.9093 - val_loss: 1288.2026\n",
            "Epoch 5/50\n",
            "12/12 [==============================] - 0s 6ms/step - loss: 1365.6405 - val_loss: 969.2165\n",
            "Epoch 6/50\n",
            "12/12 [==============================] - 0s 4ms/step - loss: 924.6908 - val_loss: 606.2994\n",
            "Epoch 7/50\n",
            "12/12 [==============================] - 0s 4ms/step - loss: 512.1420 - val_loss: 294.9328\n",
            "Epoch 8/50\n",
            "12/12 [==============================] - 0s 6ms/step - loss: 244.8080 - val_loss: 121.6464\n",
            "Epoch 9/50\n",
            "12/12 [==============================] - 0s 4ms/step - loss: 127.4496 - val_loss: 80.0512\n",
            "Epoch 10/50\n",
            "12/12 [==============================] - 0s 6ms/step - loss: 112.8455 - val_loss: 67.6946\n",
            "Epoch 11/50\n",
            "12/12 [==============================] - 0s 6ms/step - loss: 104.2313 - val_loss: 61.6956\n",
            "Epoch 12/50\n",
            "12/12 [==============================] - 0s 6ms/step - loss: 94.2810 - val_loss: 59.1446\n",
            "Epoch 13/50\n",
            "12/12 [==============================] - 0s 7ms/step - loss: 83.2721 - val_loss: 54.7853\n",
            "Epoch 14/50\n",
            "12/12 [==============================] - 0s 5ms/step - loss: 73.8590 - val_loss: 46.7804\n",
            "Epoch 15/50\n",
            "12/12 [==============================] - 0s 5ms/step - loss: 75.7512 - val_loss: 42.2544\n",
            "Epoch 16/50\n",
            "12/12 [==============================] - 0s 6ms/step - loss: 70.4894 - val_loss: 39.9955\n",
            "Epoch 17/50\n",
            "12/12 [==============================] - 0s 4ms/step - loss: 63.0883 - val_loss: 37.9354\n",
            "Epoch 18/50\n",
            "12/12 [==============================] - 0s 4ms/step - loss: 71.8287 - val_loss: 36.4121\n",
            "Epoch 19/50\n",
            "12/12 [==============================] - 0s 5ms/step - loss: 62.7431 - val_loss: 34.3762\n",
            "Epoch 20/50\n",
            "12/12 [==============================] - 0s 5ms/step - loss: 59.4950 - val_loss: 36.0311\n",
            "Epoch 21/50\n",
            "12/12 [==============================] - 0s 5ms/step - loss: 62.8995 - val_loss: 35.8739\n",
            "Epoch 22/50\n",
            "12/12 [==============================] - 0s 5ms/step - loss: 56.5246 - val_loss: 33.5806\n",
            "Epoch 23/50\n",
            "12/12 [==============================] - 0s 6ms/step - loss: 58.0780 - val_loss: 32.2985\n",
            "Epoch 24/50\n",
            "12/12 [==============================] - 0s 5ms/step - loss: 54.2083 - val_loss: 32.3378\n",
            "Epoch 25/50\n",
            "12/12 [==============================] - 0s 6ms/step - loss: 78.1191 - val_loss: 32.3225\n",
            "Epoch 26/50\n",
            "12/12 [==============================] - 0s 6ms/step - loss: 60.5619 - val_loss: 32.0550\n",
            "Epoch 27/50\n",
            "12/12 [==============================] - 0s 5ms/step - loss: 63.1493 - val_loss: 31.3880\n",
            "Epoch 28/50\n",
            "12/12 [==============================] - 0s 6ms/step - loss: 56.5936 - val_loss: 27.5206\n",
            "Epoch 29/50\n",
            "12/12 [==============================] - 0s 6ms/step - loss: 59.2255 - val_loss: 29.0970\n",
            "Epoch 30/50\n",
            "12/12 [==============================] - 0s 5ms/step - loss: 69.7862 - val_loss: 29.5191\n",
            "Epoch 31/50\n",
            "12/12 [==============================] - 0s 6ms/step - loss: 56.9240 - val_loss: 27.6292\n",
            "Epoch 32/50\n",
            "12/12 [==============================] - 0s 6ms/step - loss: 57.5083 - val_loss: 27.5428\n",
            "Epoch 33/50\n",
            "12/12 [==============================] - 0s 5ms/step - loss: 53.2094 - val_loss: 26.8654\n",
            "Epoch 34/50\n",
            "12/12 [==============================] - 0s 4ms/step - loss: 59.2247 - val_loss: 27.6778\n",
            "Epoch 35/50\n",
            "12/12 [==============================] - 0s 4ms/step - loss: 53.8511 - val_loss: 24.9415\n",
            "Epoch 36/50\n",
            "12/12 [==============================] - 0s 5ms/step - loss: 59.0861 - val_loss: 24.7455\n",
            "Epoch 37/50\n",
            "12/12 [==============================] - 0s 6ms/step - loss: 54.3687 - val_loss: 24.4857\n",
            "Epoch 38/50\n",
            "12/12 [==============================] - 0s 6ms/step - loss: 56.4860 - val_loss: 25.4224\n",
            "Epoch 39/50\n",
            "12/12 [==============================] - 0s 4ms/step - loss: 58.1935 - val_loss: 25.7125\n",
            "Epoch 40/50\n",
            "12/12 [==============================] - 0s 5ms/step - loss: 53.3637 - val_loss: 25.0551\n",
            "Epoch 41/50\n",
            "12/12 [==============================] - 0s 4ms/step - loss: 56.1714 - val_loss: 23.7070\n",
            "Epoch 42/50\n",
            "12/12 [==============================] - 0s 7ms/step - loss: 54.7723 - val_loss: 24.0580\n",
            "Epoch 43/50\n",
            "12/12 [==============================] - 0s 5ms/step - loss: 57.5438 - val_loss: 27.1900\n",
            "Epoch 44/50\n",
            "12/12 [==============================] - 0s 6ms/step - loss: 50.2351 - val_loss: 23.8943\n",
            "Epoch 45/50\n",
            "12/12 [==============================] - 0s 6ms/step - loss: 54.0407 - val_loss: 23.4816\n",
            "Epoch 46/50\n",
            "12/12 [==============================] - 0s 6ms/step - loss: 53.5084 - val_loss: 22.5374\n",
            "Epoch 47/50\n",
            "12/12 [==============================] - 0s 6ms/step - loss: 63.2703 - val_loss: 21.4029\n",
            "Epoch 48/50\n",
            "12/12 [==============================] - 0s 5ms/step - loss: 58.0665 - val_loss: 21.5852\n",
            "Epoch 49/50\n",
            "12/12 [==============================] - 0s 4ms/step - loss: 50.4112 - val_loss: 20.8213\n",
            "Epoch 50/50\n",
            "12/12 [==============================] - 0s 5ms/step - loss: 49.0190 - val_loss: 24.0742\n"
          ]
        }
      ]
    },
    {
      "cell_type": "markdown",
      "source": [
        "## Testing the Model\n",
        "\n",
        "We are now going to evauluate the model's performance on the testing set"
      ],
      "metadata": {
        "id": "rTshD98VgtCi"
      }
    },
    {
      "cell_type": "code",
      "source": [
        "# Run the evaluator on the testing set\n",
        "\n",
        "mse = model.evaluate(X_test, y_test)\n",
        "\n",
        "\n"
      ],
      "metadata": {
        "colab": {
          "base_uri": "https://localhost:8080/"
        },
        "id": "DcECtw2OgW-r",
        "outputId": "3c843524-6fa8-4bce-dcb2-30bfd3716951"
      },
      "execution_count": 80,
      "outputs": [
        {
          "output_type": "stream",
          "name": "stdout",
          "text": [
            "3/3 [==============================] - 0s 4ms/step - loss: 24.0742\n"
          ]
        }
      ]
    },
    {
      "cell_type": "code",
      "source": [
        "#For the testing set, predict options prices:\n",
        "predictions = model.predict(X_test)\n"
      ],
      "metadata": {
        "colab": {
          "base_uri": "https://localhost:8080/"
        },
        "id": "_BxdW2eamA3k",
        "outputId": "6c0e94de-8159-421b-faf2-91755412b3e3"
      },
      "execution_count": 81,
      "outputs": [
        {
          "output_type": "stream",
          "name": "stdout",
          "text": [
            "3/3 [==============================] - 0s 4ms/step\n"
          ]
        }
      ]
    },
    {
      "cell_type": "code",
      "source": [
        "#Compare predictions with actual prices\n",
        "\n",
        "comparison_df = pd.DataFrame({'Actual Price': y_test.values, 'Predicted Price': predictions.flatten()})\n",
        "#print out a sample of the comparisons\n",
        "\n",
        "print(f'Mean-Squared-Error on the Testing Set: {mse}')\n",
        "print(comparison_df.sample(10))"
      ],
      "metadata": {
        "colab": {
          "base_uri": "https://localhost:8080/"
        },
        "id": "cS3GjNWqmcFa",
        "outputId": "7f916342-38ac-47a4-dc23-7b032c89c2b9"
      },
      "execution_count": 82,
      "outputs": [
        {
          "output_type": "stream",
          "name": "stdout",
          "text": [
            "Mean-Squared-Error on the Testing Set: 24.07416343688965\n",
            "    Actual Price  Predicted Price\n",
            "78          0.01         0.314854\n",
            "45          0.41         0.292914\n",
            "54         69.22        83.639145\n",
            "69         41.20        38.227596\n",
            "65         63.20        56.921177\n",
            "44          0.02        -0.257601\n",
            "12         12.45        11.504924\n",
            "92          0.04        -0.319399\n",
            "61          0.02        -0.630312\n",
            "49         21.30        21.663166\n"
          ]
        }
      ]
    },
    {
      "cell_type": "markdown",
      "source": [
        "## Visualizing our results\n",
        "\n",
        "For this project, I chose to go with matplotlib and seaborn to visualize the results"
      ],
      "metadata": {
        "id": "tJoXtEWQnqYD"
      }
    },
    {
      "cell_type": "markdown",
      "source": [
        "**Visualizing Training and Validation Loss**"
      ],
      "metadata": {
        "id": "d5wqzZyN620b"
      }
    },
    {
      "cell_type": "code",
      "source": [
        "# Visualize both validation and training loss over epochs\n",
        "\n",
        "plt.figure(figsize = (12, 6))\n",
        "\n",
        "\n",
        "plt.plot(history.history['loss'], label = 'Training Loss')\n",
        "\n",
        "plt.plot(history.history['val_loss'], label='Validation Loss')\n",
        "\n",
        "\n",
        "plt.title('Validation and Training Loss Over Epochs')\n",
        "\n",
        "plt.xlabel(\"Epochs\")\n",
        "\n",
        "plt.ylabel(\"Mean Squared Error\")\n",
        "\n",
        "plt.legend()\n",
        "\n",
        "plt.grid(True)\n",
        "\n",
        "plt.show()\n",
        "\n"
      ],
      "metadata": {
        "colab": {
          "base_uri": "https://localhost:8080/",
          "height": 564
        },
        "id": "kakYAaMvm96k",
        "outputId": "8fe68c23-185c-4b01-c1ab-0803c6dcaf38"
      },
      "execution_count": 83,
      "outputs": [
        {
          "output_type": "display_data",
          "data": {
            "text/plain": [
              "<Figure size 1200x600 with 1 Axes>"
            ],
            "image/png": "[encoded data removed]"
          },
          "metadata": {}
        }
      ]
    },
    {
      "cell_type": "markdown",
      "source": [
        "**Visualizing Predicted vs. Actual Prices**\n",
        "* We are going to now visualize the correlation between predicted and actual option prices on the test set.\n",
        "* We are going to create a scatter plot of actual prices vs. predictions, the ideal relationship will be shown with a diagonal line.\n",
        "* The residuals will show the model's predictive error\n"
      ],
      "metadata": {
        "id": "g7LwsLD2jlLS"
      }
    },
    {
      "cell_type": "code",
      "source": [
        "\n",
        "plt.figure(figsize=(10, 8))\n",
        "\n",
        "sns.scatterplot(x = y_test, y=predictions.flatten())\n",
        "\n",
        "plt.plot([min(y_test), max(y_test)], [min(y_test), max(y_test)], linestyle='--', color='orange', label='Diagonal Line')\n",
        "\n",
        "plt.title('Scatter Plot of Predictions vs. Actual Prices')\n",
        "\n",
        "plt.xlabel('Actual Prices')\n",
        "\n",
        "plt.ylabel('Predicted Prices')\n",
        "\n",
        "plt.grid(True)\n",
        "\n",
        "plt.legend()\n",
        "\n",
        "plt.show()\n"
      ],
      "metadata": {
        "colab": {
          "base_uri": "https://localhost:8080/",
          "height": 718
        },
        "id": "NsHrh90JaKmL",
        "outputId": "305d61ca-4c26-4e61-b1dd-08536958a04e"
      },
      "execution_count": 84,
      "outputs": [
        {
          "output_type": "display_data",
          "data": {
            "text/plain": [
              "<Figure size 1000x800 with 1 Axes>"
            ],
            "image/png": "[encoded data removed]"
          },
          "metadata": {}
        }
      ]
    },
    {
      "cell_type": "markdown",
      "source": [
        "# Options Strategy Creation and Backtesting\n",
        "\n",
        "* The Strategy will be based on trade signals created by the Deep Learning model\n",
        "* The Dataset will be created by zipping together historical JPM prices and the options_dataset\n",
        "* The Strategy performance will then be asessed"
      ],
      "metadata": {
        "id": "LBSVAmGjqPHY"
      }
    },
    {
      "cell_type": "markdown",
      "source": [
        "## Formulating the Strategy dataset"
      ],
      "metadata": {
        "id": "n1ZSldzF7eXT"
      }
    },
    {
      "cell_type": "code",
      "source": [
        "#Extract historical close prices for JPM\n",
        "\n",
        "\n",
        "jpm_prices = jpm_ticker.history(period='1y', interval='1d')['Close']\n",
        "\n"
      ],
      "metadata": {
        "id": "BCunJwcQqWa6"
      },
      "execution_count": 85,
      "outputs": []
    },
    {
      "cell_type": "code",
      "source": [
        "# Convert the numerical options_dataset indices to datetime format in New York timezone\n",
        "\n",
        "options_dataset.index = pd.to_datetime(options_dataset.index).tz_localize('America/New_York')\n",
        "\n",
        "#Match the jpm_prices indices with the options_dataset indices and reindex them\n",
        "\n",
        "jpm_prices = jpm_prices.reindex(options_dataset.index, method='ffill') #use forward filling to handle any missing values\n",
        "\n"
      ],
      "metadata": {
        "id": "6c-Ngx7r8jdo"
      },
      "execution_count": 86,
      "outputs": []
    },
    {
      "cell_type": "markdown",
      "source": [
        "## Creating the Strategy Signal based on predictions"
      ],
      "metadata": {
        "id": "trEcInn7_HnI"
      }
    },
    {
      "cell_type": "code",
      "source": [
        "#Calculate the Strategy returns\n",
        "\n",
        "'''We will predict the options prices using the trained model and scale the features respectively'''\n",
        "options_dataset['Predicted_Price'] = model.predict(scaler.transform(options_dataset[features]))\n",
        "\n",
        "options_dataset['Signal'] = np.where(options_dataset['Predicted_Price'] > options_dataset['lastPrice'], 1, -1) #signal creation"
      ],
      "metadata": {
        "colab": {
          "base_uri": "https://localhost:8080/"
        },
        "id": "SAHoTYkC_RDZ",
        "outputId": "9524584b-2d47-4242-b55f-cf53daf38539"
      },
      "execution_count": 87,
      "outputs": [
        {
          "output_type": "stream",
          "name": "stdout",
          "text": [
            "15/15 [==============================] - 0s 2ms/step\n"
          ]
        }
      ]
    },
    {
      "cell_type": "markdown",
      "source": [
        "**Strategy Outputs:**\n",
        "\n",
        "* The Strategy will have three possible states:\n",
        "  * 1 : Buy/Hold the option\n",
        "    * This will be triggered if the predicted price is higher than the the current option price.\n",
        "  * -1 : Sell/ Hold Cash\n",
        "    * This will be triggered if the buy condition is not true.\n",
        "  * 0 : No change in position\n",
        "  "
      ],
      "metadata": {
        "id": "YiFF_hF6DCiz"
      }
    },
    {
      "cell_type": "code",
      "source": [
        "#Create an intial position:\n",
        "\n",
        "options_dataset['Position'] = options_dataset['Signal'].shift(1) #need to prevent look-ahead bias (preventing data leaks)\n",
        "\n",
        "options_dataset['Position'].fillna(0, inplace = True) #Initial position needs to be 0 (holding cash)\n",
        "\n"
      ],
      "metadata": {
        "id": "CLSYCtqoBIV8"
      },
      "execution_count": 88,
      "outputs": []
    },
    {
      "cell_type": "markdown",
      "source": [
        "## Calculating Percentage Returns\n",
        "\n",
        "* This section will be backtesting the strategy based on histroical JPM prices\n",
        "* We will calculate the Daily and the Aggregated strategy return and represent the overall performance of the strategy\n"
      ],
      "metadata": {
        "id": "zMcytqBTE6dt"
      }
    },
    {
      "cell_type": "code",
      "source": [
        "# Risk Management Parameters\n",
        "risk_per_trade = 0.05  # Maximum risk per trade (3% of total capital)\n",
        "stop_loss_pct = 0.10  # Stop loss percentage (10% loss from entry price)\n",
        "volatility_multiplier = 2  # Multiplier for volatility-based position sizing\n",
        "\n",
        "# Calculate position size based on risk per trade and stop loss percentage\n",
        "total_capital = 10000  # Example: $10,000\n",
        "max_loss_per_trade = total_capital * risk_per_trade\n",
        "options_dataset['Stop_Loss'] = options_dataset['lastPrice'] * (1 - stop_loss_pct)\n",
        "options_dataset['Position_Size'] = max_loss_per_trade / (options_dataset['lastPrice'] - options_dataset['Stop_Loss'])\n",
        "\n",
        "# Adjust position size based on volatility\n",
        "options_dataset['Volatility_Adjustment'] = volatility_multiplier * options_dataset['vega']  # Using Vega as a volatility metric\n",
        "options_dataset['Position_Size'] *= options_dataset['Volatility_Adjustment']\n",
        "\n",
        "# Implement stop-loss orders\n",
        "options_dataset['Stop_Loss_Triggered'] = np.where(options_dataset['lastPrice'] < options_dataset['Stop_Loss'], 1, 0)\n",
        "options_dataset['Position'] = np.where(options_dataset['Stop_Loss_Triggered'] == 1, 0, options_dataset['Position'])\n",
        "\n",
        "#Calculate daily percentage returns when the strategy is utilized\n",
        "\n",
        "options_dataset['Strategy_Return'] = options_dataset['Position'] * options_dataset['lastPrice'].pct_change() #calculate the daily return of the strategy\n",
        "options_dataset['Cumulative_Strategy_Return'] = (1 + options_dataset['Strategy_Return']).cumprod() - 1 #compute the cumulative strategy return"
      ],
      "metadata": {
        "id": "-FIt2wcvE465"
      },
      "execution_count": 89,
      "outputs": []
    },
    {
      "cell_type": "code",
      "source": [
        "# We can now take a look at the strategy returns\n",
        "\n",
        "options_dataset[['lastPrice', 'Predicted_Price', 'Signal', 'Position', 'Position_Size', 'Stop_Loss', 'Strategy_Return', 'Cumulative_Strategy_Return']].tail(1000)\n"
      ],
      "metadata": {
        "colab": {
          "base_uri": "https://localhost:8080/",
          "height": 754
        },
        "id": "2riO08jAHJrN",
        "outputId": "355cd34f-76c4-4c0d-a78b-ce955a6c69fb"
      },
      "execution_count": 90,
      "outputs": [
        {
          "output_type": "execute_result",
          "data": {
            "text/plain": [
              "                                     lastPrice  Predicted_Price  Signal  \\\n",
              "1970-01-01 00:00:00-05:00                39.11        34.000122      -1   \n",
              "1970-01-01 00:00:00.000000001-05:00      24.40        28.010733       1   \n",
              "1970-01-01 00:00:00.000000002-05:00      33.72        27.437906      -1   \n",
              "1970-01-01 00:00:00.000000004-05:00      23.70        22.672314      -1   \n",
              "1970-01-01 00:00:00.000000005-05:00      11.85        18.938541       1   \n",
              "...                                        ...              ...     ...   \n",
              "1970-01-01 00:00:00.000000497-05:00       7.10         6.592290      -1   \n",
              "1970-01-01 00:00:00.000000498-05:00       5.00         4.999062      -1   \n",
              "1970-01-01 00:00:00.000000499-05:00       4.54         3.946566      -1   \n",
              "1970-01-01 00:00:00.000000500-05:00       2.80         3.204273       1   \n",
              "1970-01-01 00:00:00.000000501-05:00       2.63         2.704068       1   \n",
              "\n",
              "                                     Position  Position_Size  Stop_Loss  \\\n",
              "1970-01-01 00:00:00-05:00                 0.0   0.000000e+00     35.199   \n",
              "1970-01-01 00:00:00.000000001-05:00      -1.0   0.000000e+00     21.960   \n",
              "1970-01-01 00:00:00.000000002-05:00       1.0   0.000000e+00     30.348   \n",
              "1970-01-01 00:00:00.000000004-05:00      -1.0   0.000000e+00     21.330   \n",
              "1970-01-01 00:00:00.000000005-05:00      -1.0   0.000000e+00     10.665   \n",
              "...                                       ...            ...        ...   \n",
              "1970-01-01 00:00:00.000000497-05:00      -1.0   5.034648e-26      6.390   \n",
              "1970-01-01 00:00:00.000000498-05:00      -1.0   3.435543e-04      4.500   \n",
              "1970-01-01 00:00:00.000000499-05:00      -1.0   5.854470e-04      4.086   \n",
              "1970-01-01 00:00:00.000000500-05:00      -1.0   4.298430e-03      2.520   \n",
              "1970-01-01 00:00:00.000000501-05:00       1.0   6.176713e-03      2.367   \n",
              "\n",
              "                                     Strategy_Return  \\\n",
              "1970-01-01 00:00:00-05:00                        NaN   \n",
              "1970-01-01 00:00:00.000000001-05:00         0.376119   \n",
              "1970-01-01 00:00:00.000000002-05:00         0.381967   \n",
              "1970-01-01 00:00:00.000000004-05:00         0.297153   \n",
              "1970-01-01 00:00:00.000000005-05:00         0.500000   \n",
              "...                                              ...   \n",
              "1970-01-01 00:00:00.000000497-05:00         0.252632   \n",
              "1970-01-01 00:00:00.000000498-05:00         0.295775   \n",
              "1970-01-01 00:00:00.000000499-05:00         0.092000   \n",
              "1970-01-01 00:00:00.000000500-05:00         0.383260   \n",
              "1970-01-01 00:00:00.000000501-05:00        -0.060714   \n",
              "\n",
              "                                     Cumulative_Strategy_Return  \n",
              "1970-01-01 00:00:00-05:00                                   NaN  \n",
              "1970-01-01 00:00:00.000000001-05:00                    0.376119  \n",
              "1970-01-01 00:00:00.000000002-05:00                    0.901751  \n",
              "1970-01-01 00:00:00.000000004-05:00                    1.466862  \n",
              "1970-01-01 00:00:00.000000005-05:00                    2.700293  \n",
              "...                                                         ...  \n",
              "1970-01-01 00:00:00.000000497-05:00                   -1.000000  \n",
              "1970-01-01 00:00:00.000000498-05:00                   -1.000000  \n",
              "1970-01-01 00:00:00.000000499-05:00                   -1.000000  \n",
              "1970-01-01 00:00:00.000000500-05:00                   -1.000000  \n",
              "1970-01-01 00:00:00.000000501-05:00                   -1.000000  \n",
              "\n",
              "[478 rows x 8 columns]"
            ],
            "text/html": [
              "\n",
              "  <div id=\"df-8b77ea2d-b7a2-48c8-b098-f9a20ffc2cac\" class=\"colab-df-container\">\n",
              "    <div>\n",
              "<style scoped>\n",
              "    .dataframe tbody tr th:only-of-type {\n",
              "        vertical-align: middle;\n",
              "    }\n",
              "\n",
              "    .dataframe tbody tr th {\n",
              "        vertical-align: top;\n",
              "    }\n",
              "\n",
              "    .dataframe thead th {\n",
              "        text-align: right;\n",
              "    }\n",
              "</style>\n",
              "<table border=\"1\" class=\"dataframe\">\n",
              "  <thead>\n",
              "    <tr style=\"text-align: right;\">\n",
              "      <th></th>\n",
              "      <th>lastPrice</th>\n",
              "      <th>Predicted_Price</th>\n",
              "      <th>Signal</th>\n",
              "      <th>Position</th>\n",
              "      <th>Position_Size</th>\n",
              "      <th>Stop_Loss</th>\n",
              "      <th>Strategy_Return</th>\n",
              "      <th>Cumulative_Strategy_Return</th>\n",
              "    </tr>\n",
              "  </thead>\n",
              "  <tbody>\n",
              "    <tr>\n",
              "      <th>1970-01-01 00:00:00-05:00</th>\n",
              "      <td>39.11</td>\n",
              "      <td>34.000122</td>\n",
              "      <td>-1</td>\n",
              "      <td>0.0</td>\n",
              "      <td>0.000000e+00</td>\n",
              "      <td>35.199</td>\n",
              "      <td>NaN</td>\n",
              "      <td>NaN</td>\n",
              "    </tr>\n",
              "    <tr>\n",
              "      <th>1970-01-01 00:00:00.000000001-05:00</th>\n",
              "      <td>24.40</td>\n",
              "      <td>28.010733</td>\n",
              "      <td>1</td>\n",
              "      <td>-1.0</td>\n",
              "      <td>0.000000e+00</td>\n",
              "      <td>21.960</td>\n",
              "      <td>0.376119</td>\n",
              "      <td>0.376119</td>\n",
              "    </tr>\n",
              "    <tr>\n",
              "      <th>1970-01-01 00:00:00.000000002-05:00</th>\n",
              "      <td>33.72</td>\n",
              "      <td>27.437906</td>\n",
              "      <td>-1</td>\n",
              "      <td>1.0</td>\n",
              "      <td>0.000000e+00</td>\n",
              "      <td>30.348</td>\n",
              "      <td>0.381967</td>\n",
              "      <td>0.901751</td>\n",
              "    </tr>\n",
              "    <tr>\n",
              "      <th>1970-01-01 00:00:00.000000004-05:00</th>\n",
              "      <td>23.70</td>\n",
              "      <td>22.672314</td>\n",
              "      <td>-1</td>\n",
              "      <td>-1.0</td>\n",
              "      <td>0.000000e+00</td>\n",
              "      <td>21.330</td>\n",
              "      <td>0.297153</td>\n",
              "      <td>1.466862</td>\n",
              "    </tr>\n",
              "    <tr>\n",
              "      <th>1970-01-01 00:00:00.000000005-05:00</th>\n",
              "      <td>11.85</td>\n",
              "      <td>18.938541</td>\n",
              "      <td>1</td>\n",
              "      <td>-1.0</td>\n",
              "      <td>0.000000e+00</td>\n",
              "      <td>10.665</td>\n",
              "      <td>0.500000</td>\n",
              "      <td>2.700293</td>\n",
              "    </tr>\n",
              "    <tr>\n",
              "      <th>...</th>\n",
              "      <td>...</td>\n",
              "      <td>...</td>\n",
              "      <td>...</td>\n",
              "      <td>...</td>\n",
              "      <td>...</td>\n",
              "      <td>...</td>\n",
              "      <td>...</td>\n",
              "      <td>...</td>\n",
              "    </tr>\n",
              "    <tr>\n",
              "      <th>1970-01-01 00:00:00.000000497-05:00</th>\n",
              "      <td>7.10</td>\n",
              "      <td>6.592290</td>\n",
              "      <td>-1</td>\n",
              "      <td>-1.0</td>\n",
              "      <td>5.034648e-26</td>\n",
              "      <td>6.390</td>\n",
              "      <td>0.252632</td>\n",
              "      <td>-1.000000</td>\n",
              "    </tr>\n",
              "    <tr>\n",
              "      <th>1970-01-01 00:00:00.000000498-05:00</th>\n",
              "      <td>5.00</td>\n",
              "      <td>4.999062</td>\n",
              "      <td>-1</td>\n",
              "      <td>-1.0</td>\n",
              "      <td>3.435543e-04</td>\n",
              "      <td>4.500</td>\n",
              "      <td>0.295775</td>\n",
              "      <td>-1.000000</td>\n",
              "    </tr>\n",
              "    <tr>\n",
              "      <th>1970-01-01 00:00:00.000000499-05:00</th>\n",
              "      <td>4.54</td>\n",
              "      <td>3.946566</td>\n",
              "      <td>-1</td>\n",
              "      <td>-1.0</td>\n",
              "      <td>5.854470e-04</td>\n",
              "      <td>4.086</td>\n",
              "      <td>0.092000</td>\n",
              "      <td>-1.000000</td>\n",
              "    </tr>\n",
              "    <tr>\n",
              "      <th>1970-01-01 00:00:00.000000500-05:00</th>\n",
              "      <td>2.80</td>\n",
              "      <td>3.204273</td>\n",
              "      <td>1</td>\n",
              "      <td>-1.0</td>\n",
              "      <td>4.298430e-03</td>\n",
              "      <td>2.520</td>\n",
              "      <td>0.383260</td>\n",
              "      <td>-1.000000</td>\n",
              "    </tr>\n",
              "    <tr>\n",
              "      <th>1970-01-01 00:00:00.000000501-05:00</th>\n",
              "      <td>2.63</td>\n",
              "      <td>2.704068</td>\n",
              "      <td>1</td>\n",
              "      <td>1.0</td>\n",
              "      <td>6.176713e-03</td>\n",
              "      <td>2.367</td>\n",
              "      <td>-0.060714</td>\n",
              "      <td>-1.000000</td>\n",
              "    </tr>\n",
              "  </tbody>\n",
              "</table>\n",
              "<p>478 rows × 8 columns</p>\n",
              "</div>\n",
              "    <div class=\"colab-df-buttons\">\n",
              "\n",
              "  <div class=\"colab-df-container\">\n",
              "    <button class=\"colab-df-convert\" onclick=\"convertToInteractive('df-8b77ea2d-b7a2-48c8-b098-f9a20ffc2cac')\"\n",
              "            title=\"Convert this dataframe to an interactive table.\"\n",
              "            style=\"display:none;\">\n",
              "\n",
              "  <svg xmlns=\"http://www.w3.org/2000/svg\" height=\"24px\" viewBox=\"0 -960 960 960\">\n",
              "    <path d=\"M120-120v-720h720v720H120Zm60-500h600v-160H180v160Zm220 220h160v-160H400v160Zm0 220h160v-160H400v160ZM180-400h160v-160H180v160Zm440 0h160v-160H620v160ZM180-180h160v-160H180v160Zm440 0h160v-160H620v160Z\"/>\n",
              "  </svg>\n",
              "    </button>\n",
              "\n",
              "  <style>\n",
              "    .colab-df-container {\n",
              "      display:flex;\n",
              "      gap: 12px;\n",
              "    }\n",
              "\n",
              "    .colab-df-convert {\n",
              "      background-color: #E8F0FE;\n",
              "      border: none;\n",
              "      border-radius: 50%;\n",
              "      cursor: pointer;\n",
              "      display: none;\n",
              "      fill: #1967D2;\n",
              "      height: 32px;\n",
              "      padding: 0 0 0 0;\n",
              "      width: 32px;\n",
              "    }\n",
              "\n",
              "    .colab-df-convert:hover {\n",
              "      background-color: #E2EBFA;\n",
              "      box-shadow: 0px 1px 2px rgba(60, 64, 67, 0.3), 0px 1px 3px 1px rgba(60, 64, 67, 0.15);\n",
              "      fill: #174EA6;\n",
              "    }\n",
              "\n",
              "    .colab-df-buttons div {\n",
              "      margin-bottom: 4px;\n",
              "    }\n",
              "\n",
              "    [theme=dark] .colab-df-convert {\n",
              "      background-color: #3B4455;\n",
              "      fill: #D2E3FC;\n",
              "    }\n",
              "\n",
              "    [theme=dark] .colab-df-convert:hover {\n",
              "      background-color: #434B5C;\n",
              "      box-shadow: 0px 1px 3px 1px rgba(0, 0, 0, 0.15);\n",
              "      filter: drop-shadow(0px 1px 2px rgba(0, 0, 0, 0.3));\n",
              "      fill: #FFFFFF;\n",
              "    }\n",
              "  </style>\n",
              "\n",
              "    <script>\n",
              "      const buttonEl =\n",
              "        document.querySelector('#df-8b77ea2d-b7a2-48c8-b098-f9a20ffc2cac button.colab-df-convert');\n",
              "      buttonEl.style.display =\n",
              "        google.colab.kernel.accessAllowed ? 'block' : 'none';\n",
              "\n",
              "      async function convertToInteractive(key) {\n",
              "        const element = document.querySelector('#df-8b77ea2d-b7a2-48c8-b098-f9a20ffc2cac');\n",
              "        const dataTable =\n",
              "          await google.colab.kernel.invokeFunction('convertToInteractive',\n",
              "                                                    [key], {});\n",
              "        if (!dataTable) return;\n",
              "\n",
              "        const docLinkHtml = 'Like what you see? Visit the ' +\n",
              "          '<a target=\"_blank\" href=https://colab.research.google.com/notebooks/data_table.ipynb>data table notebook</a>'\n",
              "          + ' to learn more about interactive tables.';\n",
              "        element.innerHTML = '';\n",
              "        dataTable['output_type'] = 'display_data';\n",
              "        await google.colab.output.renderOutput(dataTable, element);\n",
              "        const docLink = document.createElement('div');\n",
              "        docLink.innerHTML = docLinkHtml;\n",
              "        element.appendChild(docLink);\n",
              "      }\n",
              "    </script>\n",
              "  </div>\n",
              "\n",
              "\n",
              "<div id=\"df-6a9e01ce-63fe-45e7-9844-50e2cc26ca1c\">\n",
              "  <button class=\"colab-df-quickchart\" onclick=\"quickchart('df-6a9e01ce-63fe-45e7-9844-50e2cc26ca1c')\"\n",
              "            title=\"Suggest charts\"\n",
              "            style=\"display:none;\">\n",
              "\n",
              "<svg xmlns=\"http://www.w3.org/2000/svg\" height=\"24px\"viewBox=\"0 0 24 24\"\n",
              "     width=\"24px\">\n",
              "    <g>\n",
              "        <path d=\"M19 3H5c-1.1 0-2 .9-2 2v14c0 1.1.9 2 2 2h14c1.1 0 2-.9 2-2V5c0-1.1-.9-2-2-2zM9 17H7v-7h2v7zm4 0h-2V7h2v10zm4 0h-2v-4h2v4z\"/>\n",
              "    </g>\n",
              "</svg>\n",
              "  </button>\n",
              "\n",
              "<style>\n",
              "  .colab-df-quickchart {\n",
              "      --bg-color: #E8F0FE;\n",
              "      --fill-color: #1967D2;\n",
              "      --hover-bg-color: #E2EBFA;\n",
              "      --hover-fill-color: #174EA6;\n",
              "      --disabled-fill-color: #AAA;\n",
              "      --disabled-bg-color: #DDD;\n",
              "  }\n",
              "\n",
              "  [theme=dark] .colab-df-quickchart {\n",
              "      --bg-color: #3B4455;\n",
              "      --fill-color: #D2E3FC;\n",
              "      --hover-bg-color: #434B5C;\n",
              "      --hover-fill-color: #FFFFFF;\n",
              "      --disabled-bg-color: #3B4455;\n",
              "      --disabled-fill-color: #666;\n",
              "  }\n",
              "\n",
              "  .colab-df-quickchart {\n",
              "    background-color: var(--bg-color);\n",
              "    border: none;\n",
              "    border-radius: 50%;\n",
              "    cursor: pointer;\n",
              "    display: none;\n",
              "    fill: var(--fill-color);\n",
              "    height: 32px;\n",
              "    padding: 0;\n",
              "    width: 32px;\n",
              "  }\n",
              "\n",
              "  .colab-df-quickchart:hover {\n",
              "    background-color: var(--hover-bg-color);\n",
              "    box-shadow: 0 1px 2px rgba(60, 64, 67, 0.3), 0 1px 3px 1px rgba(60, 64, 67, 0.15);\n",
              "    fill: var(--button-hover-fill-color);\n",
              "  }\n",
              "\n",
              "  .colab-df-quickchart-complete:disabled,\n",
              "  .colab-df-quickchart-complete:disabled:hover {\n",
              "    background-color: var(--disabled-bg-color);\n",
              "    fill: var(--disabled-fill-color);\n",
              "    box-shadow: none;\n",
              "  }\n",
              "\n",
              "  .colab-df-spinner {\n",
              "    border: 2px solid var(--fill-color);\n",
              "    border-color: transparent;\n",
              "    border-bottom-color: var(--fill-color);\n",
              "    animation:\n",
              "      spin 1s steps(1) infinite;\n",
              "  }\n",
              "\n",
              "  @keyframes spin {\n",
              "    0% {\n",
              "      border-color: transparent;\n",
              "      border-bottom-color: var(--fill-color);\n",
              "      border-left-color: var(--fill-color);\n",
              "    }\n",
              "    20% {\n",
              "      border-color: transparent;\n",
              "      border-left-color: var(--fill-color);\n",
              "      border-top-color: var(--fill-color);\n",
              "    }\n",
              "    30% {\n",
              "      border-color: transparent;\n",
              "      border-left-color: var(--fill-color);\n",
              "      border-top-color: var(--fill-color);\n",
              "      border-right-color: var(--fill-color);\n",
              "    }\n",
              "    40% {\n",
              "      border-color: transparent;\n",
              "      border-right-color: var(--fill-color);\n",
              "      border-top-color: var(--fill-color);\n",
              "    }\n",
              "    60% {\n",
              "      border-color: transparent;\n",
              "      border-right-color: var(--fill-color);\n",
              "    }\n",
              "    80% {\n",
              "      border-color: transparent;\n",
              "      border-right-color: var(--fill-color);\n",
              "      border-bottom-color: var(--fill-color);\n",
              "    }\n",
              "    90% {\n",
              "      border-color: transparent;\n",
              "      border-bottom-color: var(--fill-color);\n",
              "    }\n",
              "  }\n",
              "</style>\n",
              "\n",
              "  <script>\n",
              "    async function quickchart(key) {\n",
              "      const quickchartButtonEl =\n",
              "        document.querySelector('#' + key + ' button');\n",
              "      quickchartButtonEl.disabled = true;  // To prevent multiple clicks.\n",
              "      quickchartButtonEl.classList.add('colab-df-spinner');\n",
              "      try {\n",
              "        const charts = await google.colab.kernel.invokeFunction(\n",
              "            'suggestCharts', [key], {});\n",
              "      } catch (error) {\n",
              "        console.error('Error during call to suggestCharts:', error);\n",
              "      }\n",
              "      quickchartButtonEl.classList.remove('colab-df-spinner');\n",
              "      quickchartButtonEl.classList.add('colab-df-quickchart-complete');\n",
              "    }\n",
              "    (() => {\n",
              "      let quickchartButtonEl =\n",
              "        document.querySelector('#df-6a9e01ce-63fe-45e7-9844-50e2cc26ca1c button');\n",
              "      quickchartButtonEl.style.display =\n",
              "        google.colab.kernel.accessAllowed ? 'block' : 'none';\n",
              "    })();\n",
              "  </script>\n",
              "</div>\n",
              "    </div>\n",
              "  </div>\n"
            ],
            "application/vnd.google.colaboratory.intrinsic+json": {
              "type": "dataframe",
              "summary": "{\n  \"name\": \"options_dataset[['lastPrice', 'Predicted_Price', 'Signal', 'Position', 'Position_Size', 'Stop_Loss', 'Strategy_Return', 'Cumulative_Strategy_Return']]\",\n  \"rows\": 478,\n  \"fields\": [\n    {\n      \"column\": \"lastPrice\",\n      \"properties\": {\n        \"dtype\": \"number\",\n        \"std\": 33.71838332593537,\n        \"min\": 0.01,\n        \"max\": 144.95,\n        \"num_unique_values\": 417,\n        \"samples\": [\n          30.82,\n          65.65,\n          14.9\n        ],\n        \"semantic_type\": \"\",\n        \"description\": \"\"\n      }\n    },\n    {\n      \"column\": \"Predicted_Price\",\n      \"properties\": {\n        \"dtype\": \"float32\",\n        \"num_unique_values\": 478,\n        \"samples\": [\n          20.418930053710938,\n          8.8767671585083,\n          66.14741516113281\n        ],\n        \"semantic_type\": \"\",\n        \"description\": \"\"\n      }\n    },\n    {\n      \"column\": \"Signal\",\n      \"properties\": {\n        \"dtype\": \"number\",\n        \"std\": 0,\n        \"min\": -1,\n        \"max\": 1,\n        \"num_unique_values\": 2,\n        \"samples\": [\n          1,\n          -1\n        ],\n        \"semantic_type\": \"\",\n        \"description\": \"\"\n      }\n    },\n    {\n      \"column\": \"Position\",\n      \"properties\": {\n        \"dtype\": \"number\",\n        \"std\": 0.9800090348083133,\n        \"min\": -1.0,\n        \"max\": 1.0,\n        \"num_unique_values\": 3,\n        \"samples\": [\n          0.0,\n          -1.0\n        ],\n        \"semantic_type\": \"\",\n        \"description\": \"\"\n      }\n    },\n    {\n      \"column\": \"Position_Size\",\n      \"properties\": {\n        \"dtype\": \"number\",\n        \"std\": 10129.674036887844,\n        \"min\": 0.0,\n        \"max\": 64260.575383165815,\n        \"num_unique_values\": 177,\n        \"samples\": [\n          1.1417907464358849e-158,\n          7.811751581201165e-09\n        ],\n        \"semantic_type\": \"\",\n        \"description\": \"\"\n      }\n    },\n    {\n      \"column\": \"Stop_Loss\",\n      \"properties\": {\n        \"dtype\": \"number\",\n        \"std\": 30.346544993341833,\n        \"min\": 0.009000000000000001,\n        \"max\": 130.45499999999998,\n        \"num_unique_values\": 417,\n        \"samples\": [\n          27.738,\n          59.08500000000001\n        ],\n        \"semantic_type\": \"\",\n        \"description\": \"\"\n      }\n    },\n    {\n      \"column\": \"Strategy_Return\",\n      \"properties\": {\n        \"dtype\": \"number\",\n        \"std\": 192.6328483263022,\n        \"min\": -3279.0000000000005,\n        \"max\": 960.5454545454545,\n        \"num_unique_values\": 459,\n        \"samples\": [\n          0.19047619047619047,\n          -0.546875\n        ],\n        \"semantic_type\": \"\",\n        \"description\": \"\"\n      }\n    },\n    {\n      \"column\": \"Cumulative_Strategy_Return\",\n      \"properties\": {\n        \"dtype\": \"number\",\n        \"std\": 228.0301664569194,\n        \"min\": -1.26306866476331,\n        \"max\": 2121.2000940058388,\n        \"num_unique_values\": 67,\n        \"samples\": [\n          861.3390830941303,\n          -0.9913109984136028\n        ],\n        \"semantic_type\": \"\",\n        \"description\": \"\"\n      }\n    }\n  ]\n}"
            }
          },
          "metadata": {},
          "execution_count": 90
        }
      ]
    },
    {
      "cell_type": "markdown",
      "source": [
        "# Strategy Outcome"
      ],
      "metadata": {
        "id": "lud-MmoiHcdv"
      }
    },
    {
      "cell_type": "markdown",
      "source": [
        "**Current Model Signal**"
      ],
      "metadata": {
        "id": "unEQQiXhTJwu"
      }
    },
    {
      "cell_type": "code",
      "source": [
        "# Get the latest signal for the next trading day\n",
        "next_day_signal = options_dataset['Signal'].iloc[-1]\n",
        "\n",
        "# Depending on the signal, take appropriate action\n",
        "if next_day_signal == 1:\n",
        "    # Buy the option or hold existing position\n",
        "    print(\"Consider buying the corresponding option or holding existing position.\")\n",
        "elif next_day_signal == -1:\n",
        "    # Sell the option or hold cash\n",
        "    print(\"Consider selling the corresponding option or holding cash.\")\n",
        "else:\n",
        "    # No change in position\n",
        "    print(\"No change in position.\")\n"
      ],
      "metadata": {
        "colab": {
          "base_uri": "https://localhost:8080/"
        },
        "id": "UniW3EEw9CyF",
        "outputId": "c10d481d-ba68-4dc0-c307-9a12060cfb74"
      },
      "execution_count": 91,
      "outputs": [
        {
          "output_type": "stream",
          "name": "stdout",
          "text": [
            "Consider buying the corresponding option or holding existing position.\n"
          ]
        }
      ]
    },
    {
      "cell_type": "markdown",
      "source": [
        "**Visualizing Strategy Returns in a Simulated Environment**\n",
        "\n",
        "* Make trades using $10,000 of simulated.\n",
        "* Buying and Selling are based on signals generated by the strategy\n",
        "* Return is plotted and total return is calculated"
      ],
      "metadata": {
        "id": "1k7k8mCTTR4i"
      }
    },
    {
      "cell_type": "code",
      "source": [
        "# Function to generate buy/sell signals\n",
        "def generate_signals(options_dataset):\n",
        "    options_dataset['Signal'] = np.where(options_dataset['Predicted_Price'] > options_dataset['lastPrice'], 1, -1)\n",
        "\n",
        "# Function to execute paper trades\n",
        "def execute_trades(options_dataset, initial_cash):\n",
        "    cash = initial_cash\n",
        "    position = 0\n",
        "    portfolio = []\n",
        "\n",
        "    for index, row in options_dataset.iterrows():\n",
        "        if row['Signal'] == 1 and cash >= row['lastPrice']:\n",
        "            position += 1\n",
        "            cash -= row['lastPrice']\n",
        "            portfolio.append(('BUY', index, row['lastPrice']))\n",
        "        elif row['Signal'] == -1 and position > 0:\n",
        "            position -= 1\n",
        "            cash += row['lastPrice']\n",
        "            portfolio.append(('SELL', index, row['lastPrice']))\n",
        "\n",
        "    # Calculate final portfolio value\n",
        "    final_portfolio_value = cash + position * options_dataset.iloc[-1]['lastPrice']\n",
        "\n",
        "    return portfolio, final_portfolio_value\n",
        "\n",
        "# Live trading implementation\n",
        "def live_trading(options_dataset, initial_cash=10000):\n",
        "    # Generate signals\n",
        "    generate_signals(options_dataset)\n",
        "\n",
        "    # Execute paper trades\n",
        "    portfolio, final_portfolio_value = execute_trades(options_dataset, initial_cash)\n",
        "\n",
        "    # Calculate cumulative returns\n",
        "    cumulative_returns = [initial_cash]\n",
        "    current_cash = initial_cash\n",
        "    for trade in portfolio:\n",
        "        if trade[0] == 'BUY':\n",
        "            current_cash -= trade[2]\n",
        "        else:\n",
        "            current_cash += trade[2]\n",
        "        cumulative_returns.append(current_cash)\n",
        "\n",
        "    # Plot cumulative returns\n",
        "    plt.figure(figsize=(12, 8))\n",
        "    plt.plot(cumulative_returns, marker='o', linestyle='-', color='royalblue')\n",
        "    plt.title('Cumulative Returns Over Trades', fontsize=16)\n",
        "    plt.xlabel('Trades', fontsize=14)\n",
        "    plt.ylabel('Portfolio Value ($)', fontsize=14)\n",
        "    plt.xticks(fontsize=12)\n",
        "    plt.yticks(fontsize=12)\n",
        "    plt.grid(True, linestyle='--', alpha=0.7)\n",
        "\n",
        "\n",
        "\n",
        "    # Annotate last data point with final portfolio value and total return\n",
        "    final_point = len(cumulative_returns) - 1\n",
        "    plt.annotate(f'Final Value: ${cumulative_returns[-1]:,.2f}\\nTotal Return: ${(cumulative_returns[-1] - initial_cash):,.2f}\\nReturn %: {(((cumulative_returns[-1] - initial_cash)/initial_cash)*100):.2f}%',\n",
        "                 xy=(final_point, cumulative_returns[-1]),\n",
        "                 xytext=(-60, 40),\n",
        "                 textcoords='offset points',\n",
        "                 fontsize=12,\n",
        "                 arrowprops=dict(arrowstyle='->', color='black', lw=1.5),\n",
        "                 bbox=dict(boxstyle='round,pad=0.5', facecolor='white', edgecolor='black', alpha=0.5))\n",
        "\n",
        "    plt.tight_layout()\n",
        "    sns.despine()\n",
        "    plt.show()\n",
        "\n",
        "    return portfolio, final_portfolio_value\n",
        "\n"
      ],
      "metadata": {
        "id": "4VILutJKvY_L"
      },
      "execution_count": 92,
      "outputs": []
    },
    {
      "cell_type": "code",
      "source": [
        "portfolio, final_portfolio_value = live_trading(options_dataset)\n",
        "\n"
      ],
      "metadata": {
        "colab": {
          "base_uri": "https://localhost:8080/",
          "height": 785
        },
        "id": "1kkTaPFo9BG5",
        "outputId": "7380245d-d61e-4042-d765-c3a61a3e7a0a"
      },
      "execution_count": 93,
      "outputs": [
        {
          "output_type": "display_data",
          "data": {
            "text/plain": [
              "<Figure size 1200x800 with 1 Axes>"
            ],
            "image/png": "[encoded data removed]"
          },
          "metadata": {}
        }
      ]
    }
  ]
}